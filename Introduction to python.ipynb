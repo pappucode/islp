{
 "cells": [
  {
   "cell_type": "markdown",
   "id": "5ee8993c",
   "metadata": {},
   "source": [
    "## Introduction to Python"
   ]
  },
  {
   "cell_type": "markdown",
   "id": "4b6422ce",
   "metadata": {},
   "source": [
    "#### Basic Commands"
   ]
  },
  {
   "cell_type": "code",
   "execution_count": 1,
   "id": "3a775b6f",
   "metadata": {},
   "outputs": [
    {
     "name": "stdout",
     "output_type": "stream",
     "text": [
      "Fit a model with 11 variables\n"
     ]
    }
   ],
   "source": [
    "print('Fit a model with', 11, 'variables')"
   ]
  },
  {
   "cell_type": "code",
   "execution_count": 2,
   "id": "62d34eff",
   "metadata": {},
   "outputs": [],
   "source": [
    "#?print, #print?"
   ]
  },
  {
   "cell_type": "code",
   "execution_count": 3,
   "id": "a919292d",
   "metadata": {},
   "outputs": [
    {
     "data": {
      "text/plain": [
       "8"
      ]
     },
     "execution_count": 3,
     "metadata": {},
     "output_type": "execute_result"
    }
   ],
   "source": [
    "3 + 5"
   ]
  },
  {
   "cell_type": "code",
   "execution_count": 4,
   "id": "642a1290",
   "metadata": {},
   "outputs": [
    {
     "data": {
      "text/plain": [
       "'Hello World'"
      ]
     },
     "execution_count": 4,
     "metadata": {},
     "output_type": "execute_result"
    }
   ],
   "source": [
    "\"Hello\" + \" \" + \"World\""
   ]
  },
  {
   "cell_type": "markdown",
   "id": "92c4764c",
   "metadata": {},
   "source": [
    "##### list"
   ]
  },
  {
   "cell_type": "code",
   "execution_count": 5,
   "id": "a14aa490",
   "metadata": {},
   "outputs": [
    {
     "data": {
      "text/plain": [
       "[3, 4, 5]"
      ]
     },
     "execution_count": 5,
     "metadata": {},
     "output_type": "execute_result"
    }
   ],
   "source": [
    "x = [3, 4, 5]\n",
    "x"
   ]
  },
  {
   "cell_type": "code",
   "execution_count": 6,
   "id": "309ea742",
   "metadata": {},
   "outputs": [
    {
     "data": {
      "text/plain": [
       "[4, 9, 7]"
      ]
     },
     "execution_count": 6,
     "metadata": {},
     "output_type": "execute_result"
    }
   ],
   "source": [
    "y = [4, 9, 7]\n",
    "y"
   ]
  },
  {
   "cell_type": "markdown",
   "id": "8fe65e03",
   "metadata": {},
   "source": [
    "#### Introduction to Numerical Python"
   ]
  },
  {
   "cell_type": "code",
   "execution_count": 7,
   "id": "c08c917b",
   "metadata": {},
   "outputs": [],
   "source": [
    "import numpy as np"
   ]
  },
  {
   "cell_type": "code",
   "execution_count": 8,
   "id": "d35e9e1b",
   "metadata": {},
   "outputs": [],
   "source": [
    "x = np.array([3,4,5])\n",
    "y = np.array([4,9,7])"
   ]
  },
  {
   "cell_type": "code",
   "execution_count": 9,
   "id": "56f0ab8f",
   "metadata": {},
   "outputs": [
    {
     "data": {
      "text/plain": [
       "array([ 7, 13, 12])"
      ]
     },
     "execution_count": 9,
     "metadata": {},
     "output_type": "execute_result"
    }
   ],
   "source": [
    "x+y"
   ]
  },
  {
   "cell_type": "code",
   "execution_count": 10,
   "id": "4950c753",
   "metadata": {},
   "outputs": [
    {
     "data": {
      "text/plain": [
       "array([[1, 2],\n",
       "       [3, 4]])"
      ]
     },
     "execution_count": 10,
     "metadata": {},
     "output_type": "execute_result"
    }
   ],
   "source": [
    "x = np.array([[1,2], [3,4]])\n",
    "x"
   ]
  },
  {
   "cell_type": "code",
   "execution_count": 11,
   "id": "d37537a0",
   "metadata": {},
   "outputs": [
    {
     "data": {
      "text/plain": [
       "(2, dtype('int32'))"
      ]
     },
     "execution_count": 11,
     "metadata": {},
     "output_type": "execute_result"
    }
   ],
   "source": [
    "x.ndim, x.dtype"
   ]
  },
  {
   "cell_type": "code",
   "execution_count": 12,
   "id": "f2504849",
   "metadata": {},
   "outputs": [
    {
     "data": {
      "text/plain": [
       "dtype('float64')"
      ]
     },
     "execution_count": 12,
     "metadata": {},
     "output_type": "execute_result"
    }
   ],
   "source": [
    "np.array([[1,2], [3.0,4]]).dtype"
   ]
  },
  {
   "cell_type": "code",
   "execution_count": 13,
   "id": "0de62232",
   "metadata": {},
   "outputs": [],
   "source": [
    "np.array?"
   ]
  },
  {
   "cell_type": "code",
   "execution_count": 14,
   "id": "6db43cbd",
   "metadata": {},
   "outputs": [
    {
     "data": {
      "text/plain": [
       "dtype('float64')"
      ]
     },
     "execution_count": 14,
     "metadata": {},
     "output_type": "execute_result"
    }
   ],
   "source": [
    "np.array([[1,2], [3,4]], float).dtype"
   ]
  },
  {
   "cell_type": "code",
   "execution_count": 15,
   "id": "7b239bb4",
   "metadata": {},
   "outputs": [
    {
     "data": {
      "text/plain": [
       "(2, 2)"
      ]
     },
     "execution_count": 15,
     "metadata": {},
     "output_type": "execute_result"
    }
   ],
   "source": [
    "x.shape"
   ]
  },
  {
   "cell_type": "code",
   "execution_count": 16,
   "id": "c36b52a3",
   "metadata": {},
   "outputs": [
    {
     "data": {
      "text/plain": [
       "10"
      ]
     },
     "execution_count": 16,
     "metadata": {},
     "output_type": "execute_result"
    }
   ],
   "source": [
    "x = np.array([1,2,3,4])\n",
    "x.sum()"
   ]
  },
  {
   "cell_type": "code",
   "execution_count": 17,
   "id": "1c024dae",
   "metadata": {},
   "outputs": [
    {
     "data": {
      "text/plain": [
       "10"
      ]
     },
     "execution_count": 17,
     "metadata": {},
     "output_type": "execute_result"
    }
   ],
   "source": [
    "x = np.array([1,2,3,4])\n",
    "np.sum(x)"
   ]
  },
  {
   "cell_type": "code",
   "execution_count": 18,
   "id": "77f3d516",
   "metadata": {},
   "outputs": [
    {
     "name": "stdout",
     "output_type": "stream",
     "text": [
      "begining x: \n",
      " [1 2 3 4 5 6]\n",
      "reshaped x:\n",
      " [[1 2 3]\n",
      " [4 5 6]]\n"
     ]
    }
   ],
   "source": [
    "x = np.array([1, 2, 3, 4, 5, 6])\n",
    "print(\"begining x: \\n\", x)\n",
    "\n",
    "x_reshaped = x.reshape([2,3])\n",
    "print(\"reshaped x:\\n\", x_reshaped)"
   ]
  },
  {
   "cell_type": "code",
   "execution_count": 19,
   "id": "b265003a",
   "metadata": {},
   "outputs": [
    {
     "data": {
      "text/plain": [
       "array([1, 2, 3])"
      ]
     },
     "execution_count": 19,
     "metadata": {},
     "output_type": "execute_result"
    }
   ],
   "source": [
    "x_reshaped[0]"
   ]
  },
  {
   "cell_type": "code",
   "execution_count": 20,
   "id": "35f8e820",
   "metadata": {},
   "outputs": [
    {
     "data": {
      "text/plain": [
       "6"
      ]
     },
     "execution_count": 20,
     "metadata": {},
     "output_type": "execute_result"
    }
   ],
   "source": [
    "x_reshaped[1,2]"
   ]
  },
  {
   "cell_type": "code",
   "execution_count": 21,
   "id": "100891e8",
   "metadata": {},
   "outputs": [
    {
     "name": "stdout",
     "output_type": "stream",
     "text": [
      "x before we modify x_reshaped:\n",
      " [1 2 3 4 5 6]\n",
      "x_reshaped before we modify x_reshape:\n",
      " [[1 2 3]\n",
      " [4 5 6]]\n",
      "x_reshaped after we modify its top left element:\n",
      " [[5 2 3]\n",
      " [4 5 6]]\n",
      "x after we modify top left element of x_reshaped:\n",
      " [5 2 3 4 5 6]\n"
     ]
    }
   ],
   "source": [
    "print(\"x before we modify x_reshaped:\\n\", x)\n",
    "\n",
    "print(\"x_reshaped before we modify x_reshape:\\n\", x_reshaped)\n",
    "\n",
    "x_reshaped[0,0] = 5\n",
    "print(\"x_reshaped after we modify its top left element:\\n\", x_reshaped)\n",
    "\n",
    "print(\"x after we modify top left element of x_reshaped:\\n\", x)"
   ]
  },
  {
   "cell_type": "code",
   "execution_count": 22,
   "id": "2e4be60a",
   "metadata": {},
   "outputs": [],
   "source": [
    "my_tuple = (3, 4, 5)\n",
    "#my_tuple[0] = 2"
   ]
  },
  {
   "cell_type": "code",
   "execution_count": 23,
   "id": "a222861c",
   "metadata": {},
   "outputs": [
    {
     "data": {
      "text/plain": [
       "((2, 3),\n",
       " 2,\n",
       " array([[5, 4],\n",
       "        [2, 5],\n",
       "        [3, 6]]))"
      ]
     },
     "execution_count": 23,
     "metadata": {},
     "output_type": "execute_result"
    }
   ],
   "source": [
    "# shape provide dimension, ndim provide number of dimension, T provide transpose\n",
    "x_reshaped.shape, x_reshaped.ndim, x_reshaped.T"
   ]
  },
  {
   "cell_type": "code",
   "execution_count": 24,
   "id": "f9af2ad5",
   "metadata": {},
   "outputs": [
    {
     "data": {
      "text/plain": [
       "array([2.23606798, 1.41421356, 1.73205081, 2.        , 2.23606798,\n",
       "       2.44948974])"
      ]
     },
     "execution_count": 24,
     "metadata": {},
     "output_type": "execute_result"
    }
   ],
   "source": [
    "np.sqrt(x)"
   ]
  },
  {
   "cell_type": "code",
   "execution_count": 25,
   "id": "ab36558d",
   "metadata": {},
   "outputs": [
    {
     "data": {
      "text/plain": [
       "array([25,  4,  9, 16, 25, 36])"
      ]
     },
     "execution_count": 25,
     "metadata": {},
     "output_type": "execute_result"
    }
   ],
   "source": [
    "x**2"
   ]
  },
  {
   "cell_type": "code",
   "execution_count": 26,
   "id": "2c8ebdbb",
   "metadata": {},
   "outputs": [
    {
     "data": {
      "text/plain": [
       "array([2.23606798, 1.41421356, 1.73205081, 2.        , 2.23606798,\n",
       "       2.44948974])"
      ]
     },
     "execution_count": 26,
     "metadata": {},
     "output_type": "execute_result"
    }
   ],
   "source": [
    "x**0.5"
   ]
  },
  {
   "cell_type": "code",
   "execution_count": 27,
   "id": "13b5e653",
   "metadata": {},
   "outputs": [],
   "source": [
    "#?np.random.normal"
   ]
  },
  {
   "cell_type": "code",
   "execution_count": 28,
   "id": "69d009b8",
   "metadata": {},
   "outputs": [
    {
     "data": {
      "text/plain": [
       "array([-1.47143943, -1.41137256,  0.41370434,  0.7473517 ,  0.9833957 ,\n",
       "       -0.18288497, -1.45045971,  0.09506653,  1.38110222, -0.75608262,\n",
       "       -0.83176541, -0.93247393, -0.81003344, -0.78114031, -1.34850106,\n",
       "        1.46416347,  0.75066078,  1.35004287,  0.79691009, -1.02369965,\n",
       "       -0.82624424,  0.71554789, -1.17678133,  0.41514482, -0.99054093,\n",
       "       -1.07670454, -0.30175578, -1.20303766, -0.56530062, -0.30346426,\n",
       "        0.29777286, -0.88986414, -0.24677053, -1.65842756,  0.87416053,\n",
       "       -0.57908964, -0.73688227,  0.98211513, -0.5651106 , -0.49463034,\n",
       "        1.03505992, -0.8516006 ,  0.02788136,  0.30100547,  0.11503502,\n",
       "       -0.16481943,  0.20413786, -0.12538724,  0.61468237,  1.07516974])"
      ]
     },
     "execution_count": 28,
     "metadata": {},
     "output_type": "execute_result"
    }
   ],
   "source": [
    "x = np.random.normal(size=50)\n",
    "x"
   ]
  },
  {
   "cell_type": "code",
   "execution_count": 29,
   "id": "75bb6b13",
   "metadata": {},
   "outputs": [
    {
     "data": {
      "text/plain": [
       "array([49.19473747, 49.25480435, 51.07988124, 51.4135286 , 51.6495726 ,\n",
       "       50.48329193, 49.2157172 , 50.76124343, 52.04727912, 49.91009429,\n",
       "       49.8344115 , 49.73370297, 49.85614346, 49.88503659, 49.31767585,\n",
       "       52.13034037, 51.41683769, 52.01621978, 51.46308699, 49.64247726,\n",
       "       49.83993267, 51.3817248 , 49.48939558, 51.08132173, 49.67563597,\n",
       "       49.58947236, 50.36442113, 49.46313924, 50.10087629, 50.36271264,\n",
       "       50.96394976, 49.77631277, 50.41940638, 49.00774934, 51.54033743,\n",
       "       50.08708726, 49.92929464, 51.64829204, 50.10106631, 50.17154657,\n",
       "       51.70123683, 49.81457631, 50.69405827, 50.96718237, 50.78121193,\n",
       "       50.50135748, 50.87031476, 50.54078966, 51.28085928, 51.74134664])"
      ]
     },
     "execution_count": 29,
     "metadata": {},
     "output_type": "execute_result"
    }
   ],
   "source": [
    "y = x + np.random.normal(50)\n",
    "y"
   ]
  },
  {
   "cell_type": "code",
   "execution_count": 30,
   "id": "61b0a399",
   "metadata": {},
   "outputs": [
    {
     "data": {
      "text/plain": [
       "array([[1., 1.],\n",
       "       [1., 1.]])"
      ]
     },
     "execution_count": 30,
     "metadata": {},
     "output_type": "execute_result"
    }
   ],
   "source": [
    "# Find the correlation matrix\n",
    "np.corrcoef(x,y)"
   ]
  },
  {
   "cell_type": "code",
   "execution_count": 31,
   "id": "97fc19f5",
   "metadata": {},
   "outputs": [
    {
     "name": "stdout",
     "output_type": "stream",
     "text": [
      "[7.71951329 1.5396319 ]\n",
      "[0.76258494 0.58303698]\n"
     ]
    }
   ],
   "source": [
    "print(np.random.normal(scale=5, size=2))\n",
    "print(np.random.normal(scale=5, size=2))"
   ]
  },
  {
   "cell_type": "code",
   "execution_count": 32,
   "id": "20d3ab3b",
   "metadata": {},
   "outputs": [
    {
     "name": "stdout",
     "output_type": "stream",
     "text": [
      "[ 4.09482632 -1.07485605]\n",
      "[ 4.09482632 -1.07485605]\n"
     ]
    }
   ],
   "source": [
    "rng = np.random.default_rng(1303)\n",
    "print(rng.normal(scale=5, size=2))\n",
    "\n",
    "rng2 = np.random.default_rng(1303)\n",
    "print(rng2.normal(scale=5, size=2))"
   ]
  },
  {
   "cell_type": "code",
   "execution_count": 33,
   "id": "b80e3774",
   "metadata": {},
   "outputs": [
    {
     "data": {
      "text/plain": [
       "(-0.1126795190952861, -0.1126795190952861)"
      ]
     },
     "execution_count": 33,
     "metadata": {},
     "output_type": "execute_result"
    }
   ],
   "source": [
    "rng = np.random.default_rng(3)\n",
    "y = rng.standard_normal(10)\n",
    "np.mean(y), y.mean()"
   ]
  },
  {
   "cell_type": "code",
   "execution_count": 34,
   "id": "f670951f",
   "metadata": {},
   "outputs": [],
   "source": [
    "#?np.var"
   ]
  },
  {
   "cell_type": "code",
   "execution_count": 35,
   "id": "ed906fd9",
   "metadata": {},
   "outputs": [
    {
     "data": {
      "text/plain": [
       "(2.7243406406465125, 2.7243406406465125, 2.7243406406465125)"
      ]
     },
     "execution_count": 35,
     "metadata": {},
     "output_type": "execute_result"
    }
   ],
   "source": [
    "np.var(y), y.var(), np.mean(( y - y.mean())**2)"
   ]
  },
  {
   "cell_type": "code",
   "execution_count": 36,
   "id": "6ef1d85f",
   "metadata": {},
   "outputs": [
    {
     "data": {
      "text/plain": [
       "(1.6505576756498128, 1.6505576756498128)"
      ]
     },
     "execution_count": 36,
     "metadata": {},
     "output_type": "execute_result"
    }
   ],
   "source": [
    "np.sqrt(np.var(y)), np.std(y)"
   ]
  },
  {
   "cell_type": "code",
   "execution_count": 37,
   "id": "9a9b5c6a",
   "metadata": {},
   "outputs": [
    {
     "data": {
      "text/plain": [
       "array([[ 0.22578661, -0.35263079, -0.28128742],\n",
       "       [-0.66804635, -1.05515055, -0.39080098],\n",
       "       [ 0.48194539, -0.23855361,  0.9577587 ],\n",
       "       [-0.19980213,  0.02425957,  1.54582085],\n",
       "       [ 0.54510552, -0.50522874, -0.18283897],\n",
       "       [ 0.54052513,  1.93508803, -0.26962033],\n",
       "       [-0.24355868,  1.0023136 , -0.88645994],\n",
       "       [-0.29172023,  0.88253897,  0.58035002],\n",
       "       [ 0.0915167 ,  0.67010435, -2.82816231],\n",
       "       [ 1.02130682, -0.95964476, -1.66861984]])"
      ]
     },
     "execution_count": 37,
     "metadata": {},
     "output_type": "execute_result"
    }
   ],
   "source": [
    "x = rng.standard_normal((10, 3))\n",
    "x"
   ]
  },
  {
   "cell_type": "code",
   "execution_count": 38,
   "id": "4fc3b9b7",
   "metadata": {},
   "outputs": [
    {
     "data": {
      "text/plain": [
       "array([ 0.15030588,  0.14030961, -0.34238602])"
      ]
     },
     "execution_count": 38,
     "metadata": {},
     "output_type": "execute_result"
    }
   ],
   "source": [
    "x.mean(axis=0)"
   ]
  },
  {
   "cell_type": "code",
   "execution_count": 39,
   "id": "d70b3198",
   "metadata": {},
   "outputs": [
    {
     "data": {
      "text/plain": [
       "array([ 0.15030588,  0.14030961, -0.34238602])"
      ]
     },
     "execution_count": 39,
     "metadata": {},
     "output_type": "execute_result"
    }
   ],
   "source": [
    "x.mean(0)"
   ]
  },
  {
   "cell_type": "markdown",
   "id": "af7d21b4",
   "metadata": {},
   "source": [
    "#### Graphice"
   ]
  },
  {
   "cell_type": "code",
   "execution_count": 43,
   "id": "0a790217",
   "metadata": {},
   "outputs": [],
   "source": [
    "import matplotlib.pyplot as plt\n",
    "import numpy as np"
   ]
  },
  {
   "cell_type": "code",
   "execution_count": 44,
   "id": "a699e437",
   "metadata": {},
   "outputs": [
    {
     "data": {
      "image/png": "[encoded data removed]",
      "text/plain": [
       "<Figure size 800x800 with 1 Axes>"
      ]
     },
     "metadata": {},
     "output_type": "display_data"
    }
   ],
   "source": [
    "#from matplotlib.pyplot import subplots\n",
    "\n",
    "# Create a random number generator\n",
    "rng = np.random.default_rng()\n",
    "fig, ax = plt.subplots(figsize=(8, 8))\n",
    "\n",
    "x = rng.standard_normal(100)\n",
    "y = rng.standard_normal(100)\n",
    "ax.plot(x, y);\n",
    "plt.show()"
   ]
  },
  {
   "cell_type": "code",
   "execution_count": 45,
   "id": "eaa553f3",
   "metadata": {},
   "outputs": [
    {
     "ename": "NameError",
     "evalue": "name 'subplots' is not defined",
     "output_type": "error",
     "traceback": [
      "\u001b[1;31m---------------------------------------------------------------------------\u001b[0m",
      "\u001b[1;31mNameError\u001b[0m                                 Traceback (most recent call last)",
      "Cell \u001b[1;32mIn[45], line 1\u001b[0m\n\u001b[1;32m----> 1\u001b[0m output \u001b[38;5;241m=\u001b[39m \u001b[43msubplots\u001b[49m(figsize\u001b[38;5;241m=\u001b[39m(\u001b[38;5;241m8\u001b[39m,\u001b[38;5;241m8\u001b[39m))\n\u001b[0;32m      2\u001b[0m fig \u001b[38;5;241m=\u001b[39m output[\u001b[38;5;241m0\u001b[39m]\n\u001b[0;32m      3\u001b[0m ax \u001b[38;5;241m=\u001b[39m output[\u001b[38;5;241m1\u001b[39m]\n",
      "\u001b[1;31mNameError\u001b[0m: name 'subplots' is not defined"
     ]
    }
   ],
   "source": [
    "output = subplots(figsize=(8,8))\n",
    "fig = output[0]\n",
    "ax = output[1]\n",
    "#ax\n",
    "#fig"
   ]
  },
  {
   "cell_type": "code",
   "execution_count": 99,
   "id": "92bb898d",
   "metadata": {},
   "outputs": [
    {
     "data": {
      "image/png": "[encoded data removed]",
      "text/plain": [
       "<Figure size 800x800 with 1 Axes>"
      ]
     },
     "metadata": {},
     "output_type": "display_data"
    }
   ],
   "source": [
    "fig, ax = plt.subplots(figsize=(8, 8))\n",
    "ax.plot(x, y, 'o')\n",
    "plt.show()"
   ]
  },
  {
   "cell_type": "code",
   "execution_count": 118,
   "id": "fda7914b",
   "metadata": {},
   "outputs": [
    {
     "data": {
      "image/png": "[encoded data removed]",
      "text/plain": [
       "<Figure size 800x600 with 1 Axes>"
      ]
     },
     "metadata": {},
     "output_type": "display_data"
    }
   ],
   "source": [
    "fig, ax = plt.subplots(figsize=(8, 6))\n",
    "ax.scatter(x, y, marker='+')\n",
    "plt.show()"
   ]
  },
  {
   "cell_type": "code",
   "execution_count": 113,
   "id": "0a85ce42",
   "metadata": {},
   "outputs": [
    {
     "data": {
      "text/plain": [
       "<matplotlib.collections.PathCollection at 0x1305f2755e0>"
      ]
     },
     "execution_count": 113,
     "metadata": {},
     "output_type": "execute_result"
    }
   ],
   "source": [
    "fig , ax = plt.subplots(figsize =(8, 8))\n",
    "ax.scatter(x, y, marker='o')"
   ]
  },
  {
   "cell_type": "code",
   "execution_count": 127,
   "id": "d5c8aad7",
   "metadata": {},
   "outputs": [
    {
     "data": {
      "image/png": "[encoded data removed]",
      "text/plain": [
       "<Figure size 800x600 with 1 Axes>"
      ]
     },
     "metadata": {},
     "output_type": "display_data"
    }
   ],
   "source": [
    "fig, ax = plt.subplots(figsize=(8,6))\n",
    "ax.scatter(x, y, marker='v')\n",
    "ax.set_xlabel(\"This is the x-axis\")\n",
    "ax.set_ylabel(\"This is the y-axis\")\n",
    "ax.set_title(\"Plot of X vs Y\")\n",
    "plt.show()"
   ]
  },
  {
   "cell_type": "code",
   "execution_count": 130,
   "id": "b23e42c9",
   "metadata": {},
   "outputs": [
    {
     "data": {
      "image/png": "[encoded data removed]",
      "text/plain": [
       "<Figure size 1100x300 with 1 Axes>"
      ]
     },
     "metadata": {},
     "output_type": "display_data"
    }
   ],
   "source": [
    "# Resizing figure use figure object\n",
    "fig, ax = plt.subplots(figsize=(8,6))\n",
    "fig.set_size_inches(11,3)\n",
    "ax.scatter(x, y, marker='v')\n",
    "ax.set_xlabel(\"This is the x-axis\")\n",
    "ax.set_ylabel(\"This is the y-axis\")\n",
    "ax.set_title(\"Plot of X vs Y\")\n",
    "plt.show()"
   ]
  },
  {
   "cell_type": "code",
   "execution_count": 141,
   "id": "2d9fabeb",
   "metadata": {},
   "outputs": [
    {
     "data": {
      "image/png": "[encoded data removed]",
      "text/plain": [
       "<Figure size 1100x600 with 6 Axes>"
      ]
     },
     "execution_count": 141,
     "metadata": {},
     "output_type": "execute_result"
    }
   ],
   "source": [
    "fig, axes = plt.subplots(nrows=2, ncols=3, figsize=(11, 6))\n",
    "axes[0,1].plot(x, y, 'o')\n",
    "axes[1,2].scatter(x, y, marker='+')\n",
    "fig"
   ]
  },
  {
   "cell_type": "code",
   "execution_count": 142,
   "id": "a00179e4",
   "metadata": {},
   "outputs": [],
   "source": [
    "#save the fig\n",
    "fig.savefig(\"Figure.png\", dpi=400)\n",
    "fig.savefig(\"Figure.pdf\", dpi=400)"
   ]
  },
  {
   "cell_type": "code",
   "execution_count": 143,
   "id": "8555b98b",
   "metadata": {},
   "outputs": [
    {
     "data": {
      "image/png": "[encoded data removed]",
      "text/plain": [
       "<Figure size 1100x600 with 6 Axes>"
      ]
     },
     "execution_count": 143,
     "metadata": {},
     "output_type": "execute_result"
    }
   ],
   "source": [
    "axes [0 ,1]. set_xlim ([-1,1])\n",
    "fig.savefig(\"Figure_updated.jpg\")\n",
    "fig"
   ]
  },
  {
   "cell_type": "code",
   "execution_count": 147,
   "id": "7e05858d",
   "metadata": {},
   "outputs": [
    {
     "data": {
      "image/png": "[encoded data removed]",
      "text/plain": [
       "<Figure size 800x800 with 1 Axes>"
      ]
     },
     "execution_count": 147,
     "metadata": {},
     "output_type": "execute_result"
    }
   ],
   "source": [
    "fig , ax = plt.subplots(figsize =(8, 8))\n",
    "x = np.linspace(-np.pi , np.pi , 50)\n",
    "y = x\n",
    "f = np.multiply.outer(np.cos(y), 1 / (1 + x**2))\n",
    "ax.contour(x, y, f);\n",
    "fig"
   ]
  },
  {
   "cell_type": "code",
   "execution_count": 149,
   "id": "455082d5",
   "metadata": {},
   "outputs": [
    {
     "data": {
      "image/png": "[encoded data removed]",
      "text/plain": [
       "<Figure size 800x800 with 1 Axes>"
      ]
     },
     "execution_count": 149,
     "metadata": {},
     "output_type": "execute_result"
    }
   ],
   "source": [
    "fig , ax = subplots(figsize =(8, 8))\n",
    "ax.contour(x, y, f, levels =45);\n",
    "fig"
   ]
  },
  {
   "cell_type": "markdown",
   "id": "8c5cdd9f",
   "metadata": {},
   "source": [
    "#### Sequence and Slice Notation"
   ]
  },
  {
   "cell_type": "code",
   "execution_count": null,
   "id": "613ff511",
   "metadata": {},
   "outputs": [],
   "source": [
    "#?np.linspace"
   ]
  },
  {
   "cell_type": "code",
   "execution_count": 160,
   "id": "b3f8abab",
   "metadata": {},
   "outputs": [
    {
     "data": {
      "text/plain": [
       "array([ 0.,  1.,  2.,  3.,  4.,  5.,  6.,  7.,  8.,  9., 10.])"
      ]
     },
     "execution_count": 160,
     "metadata": {},
     "output_type": "execute_result"
    }
   ],
   "source": [
    "seq1 = np.linspace(0, 10, 11)\n",
    "seq1"
   ]
  },
  {
   "cell_type": "code",
   "execution_count": 164,
   "id": "7dc01fe2",
   "metadata": {},
   "outputs": [
    {
     "data": {
      "text/plain": [
       "array([0, 1, 2, 3, 4, 5, 6, 7, 8, 9])"
      ]
     },
     "execution_count": 164,
     "metadata": {},
     "output_type": "execute_result"
    }
   ],
   "source": [
    "seq2 = np.arange(0, 10)\n",
    "seq2"
   ]
  },
  {
   "cell_type": "code",
   "execution_count": 165,
   "id": "2b02baff",
   "metadata": {},
   "outputs": [
    {
     "data": {
      "text/plain": [
       "array([0, 2, 4, 6, 8])"
      ]
     },
     "execution_count": 165,
     "metadata": {},
     "output_type": "execute_result"
    }
   ],
   "source": [
    "seq2 = np.arange(0, 10, 2)\n",
    "seq2"
   ]
  },
  {
   "cell_type": "code",
   "execution_count": 166,
   "id": "29a82cf2",
   "metadata": {},
   "outputs": [
    {
     "data": {
      "text/plain": [
       "'lo '"
      ]
     },
     "execution_count": 166,
     "metadata": {},
     "output_type": "execute_result"
    }
   ],
   "source": [
    "\"hello world\"[3:6]"
   ]
  },
  {
   "cell_type": "code",
   "execution_count": 167,
   "id": "ec416c2f",
   "metadata": {},
   "outputs": [
    {
     "data": {
      "text/plain": [
       "'lo '"
      ]
     },
     "execution_count": 167,
     "metadata": {},
     "output_type": "execute_result"
    }
   ],
   "source": [
    "\"hello world\"[slice(3, 6)]"
   ]
  },
  {
   "cell_type": "markdown",
   "id": "8db8f003",
   "metadata": {},
   "source": [
    "#### Indexing Data"
   ]
  },
  {
   "cell_type": "code",
   "execution_count": 169,
   "id": "e8b41601",
   "metadata": {},
   "outputs": [
    {
     "data": {
      "text/plain": [
       "array([[ 0,  1,  2,  3],\n",
       "       [ 4,  5,  6,  7],\n",
       "       [ 8,  9, 10, 11],\n",
       "       [12, 13, 14, 15]])"
      ]
     },
     "execution_count": 169,
     "metadata": {},
     "output_type": "execute_result"
    }
   ],
   "source": [
    "a = np.array(np.arange(16)).reshape(4,4)\n",
    "a"
   ]
  },
  {
   "cell_type": "code",
   "execution_count": 170,
   "id": "9a4d47a8",
   "metadata": {},
   "outputs": [
    {
     "data": {
      "text/plain": [
       "6"
      ]
     },
     "execution_count": 170,
     "metadata": {},
     "output_type": "execute_result"
    }
   ],
   "source": [
    "a[1,2]"
   ]
  },
  {
   "cell_type": "markdown",
   "id": "55e9d6db",
   "metadata": {},
   "source": [
    "###### Indexing Rows, Columns and Submatrices"
   ]
  },
  {
   "cell_type": "code",
   "execution_count": 171,
   "id": "1ffe4917",
   "metadata": {},
   "outputs": [
    {
     "data": {
      "text/plain": [
       "array([[ 4,  5,  6,  7],\n",
       "       [12, 13, 14, 15]])"
      ]
     },
     "execution_count": 171,
     "metadata": {},
     "output_type": "execute_result"
    }
   ],
   "source": [
    "a[[1, 3]]"
   ]
  },
  {
   "cell_type": "code",
   "execution_count": 173,
   "id": "2ea6e768",
   "metadata": {},
   "outputs": [
    {
     "data": {
      "text/plain": [
       "array([[ 0,  2],\n",
       "       [ 4,  6],\n",
       "       [ 8, 10],\n",
       "       [12, 14]])"
      ]
     },
     "execution_count": 173,
     "metadata": {},
     "output_type": "execute_result"
    }
   ],
   "source": [
    "a[:, [0,2]]"
   ]
  },
  {
   "cell_type": "code",
   "execution_count": 176,
   "id": "7a0237c6",
   "metadata": {},
   "outputs": [
    {
     "data": {
      "text/plain": [
       "array([ 4, 14])"
      ]
     },
     "execution_count": 176,
     "metadata": {},
     "output_type": "execute_result"
    }
   ],
   "source": [
    "a[[1,3], [0,2]]\n",
    "#It's Provide Wrong Result"
   ]
  },
  {
   "cell_type": "code",
   "execution_count": 178,
   "id": "109e02c9",
   "metadata": {},
   "outputs": [
    {
     "data": {
      "text/plain": [
       "array([[ 4,  6],\n",
       "       [12, 14]])"
      ]
     },
     "execution_count": 178,
     "metadata": {},
     "output_type": "execute_result"
    }
   ],
   "source": [
    "a[[1,3]] [:,[0,2]]"
   ]
  },
  {
   "cell_type": "code",
   "execution_count": 181,
   "id": "68acf910",
   "metadata": {},
   "outputs": [
    {
     "data": {
      "text/plain": [
       "array([[ 4,  6,  7],\n",
       "       [12, 14, 15]])"
      ]
     },
     "execution_count": 181,
     "metadata": {},
     "output_type": "execute_result"
    }
   ],
   "source": [
    "idx = np.ix_([1,3], [0,2,3])\n",
    "a[idx]"
   ]
  },
  {
   "cell_type": "code",
   "execution_count": 185,
   "id": "afb69350",
   "metadata": {},
   "outputs": [
    {
     "data": {
      "text/plain": [
       "array([[ 4,  6],\n",
       "       [12, 14]])"
      ]
     },
     "execution_count": 185,
     "metadata": {},
     "output_type": "execute_result"
    }
   ],
   "source": [
    "a[1:4:2, 0:3:2]"
   ]
  },
  {
   "cell_type": "markdown",
   "id": "56c0237c",
   "metadata": {},
   "source": [
    "###### Boolean Indexing "
   ]
  },
  {
   "cell_type": "code",
   "execution_count": 194,
   "id": "d0d83d2b",
   "metadata": {},
   "outputs": [],
   "source": [
    "#?np.zeros"
   ]
  },
  {
   "cell_type": "code",
   "execution_count": 213,
   "id": "218e88e7",
   "metadata": {},
   "outputs": [
    {
     "data": {
      "text/plain": [
       "array([False, False, False, False])"
      ]
     },
     "execution_count": 213,
     "metadata": {},
     "output_type": "execute_result"
    }
   ],
   "source": [
    "keep_rows = np.zeros(a.shape[0], dtype=\"bool\")\n",
    "keep_rows"
   ]
  },
  {
   "cell_type": "code",
   "execution_count": 202,
   "id": "63a37139",
   "metadata": {},
   "outputs": [
    {
     "data": {
      "text/plain": [
       "array([[ 0,  1,  2,  3],\n",
       "       [ 4,  5,  6,  7],\n",
       "       [ 8,  9, 10, 11],\n",
       "       [12, 13, 14, 15]])"
      ]
     },
     "execution_count": 202,
     "metadata": {},
     "output_type": "execute_result"
    }
   ],
   "source": [
    "a"
   ]
  },
  {
   "cell_type": "code",
   "execution_count": 217,
   "id": "121d5f3c",
   "metadata": {},
   "outputs": [
    {
     "data": {
      "text/plain": [
       "array([False,  True, False,  True])"
      ]
     },
     "execution_count": 217,
     "metadata": {},
     "output_type": "execute_result"
    }
   ],
   "source": [
    "keep_rows[[1,3]] = True\n",
    "keep_rows"
   ]
  },
  {
   "cell_type": "code",
   "execution_count": 219,
   "id": "c6fc1d90",
   "metadata": {},
   "outputs": [
    {
     "data": {
      "text/plain": [
       "array([0, 1, 0, 1])"
      ]
     },
     "execution_count": 219,
     "metadata": {},
     "output_type": "execute_result"
    }
   ],
   "source": [
    "np.array ([0,1,0,1])"
   ]
  },
  {
   "cell_type": "code",
   "execution_count": 221,
   "id": "18cc869e",
   "metadata": {},
   "outputs": [],
   "source": [
    "#?np.all\n",
    "#Here, the function np.all() has checked whether all entries of an array are True.\n",
    "#A similar function, np.any(), can be used to check whether any entries of an array are True."
   ]
  },
  {
   "cell_type": "code",
   "execution_count": 224,
   "id": "25d21e8c",
   "metadata": {},
   "outputs": [
    {
     "data": {
      "text/plain": [
       "True"
      ]
     },
     "execution_count": 224,
     "metadata": {},
     "output_type": "execute_result"
    }
   ],
   "source": [
    "np.all(keep_rows == np.array([0,1, 0,1]))"
   ]
  },
  {
   "cell_type": "code",
   "execution_count": 226,
   "id": "56830845",
   "metadata": {},
   "outputs": [
    {
     "data": {
      "text/plain": [
       "array([[0, 1, 2, 3],\n",
       "       [4, 5, 6, 7],\n",
       "       [0, 1, 2, 3],\n",
       "       [4, 5, 6, 7]])"
      ]
     },
     "execution_count": 226,
     "metadata": {},
     "output_type": "execute_result"
    }
   ],
   "source": [
    "a[np.array([0,1,0,1])]"
   ]
  },
  {
   "cell_type": "code",
   "execution_count": 230,
   "id": "162d781e",
   "metadata": {},
   "outputs": [
    {
     "data": {
      "text/plain": [
       "array([[ 4,  5,  6,  7],\n",
       "       [12, 13, 14, 15]])"
      ]
     },
     "execution_count": 230,
     "metadata": {},
     "output_type": "execute_result"
    }
   ],
   "source": [
    "a[keep_rows]"
   ]
  },
  {
   "cell_type": "markdown",
   "id": "0bf0c23a",
   "metadata": {},
   "source": [
    "#### Loading Data"
   ]
  },
  {
   "cell_type": "code",
   "execution_count": 239,
   "id": "e370b6d9",
   "metadata": {},
   "outputs": [
    {
     "data": {
      "text/html": [
       "<div>\n",
       "<style scoped>\n",
       "    .dataframe tbody tr th:only-of-type {\n",
       "        vertical-align: middle;\n",
       "    }\n",
       "\n",
       "    .dataframe tbody tr th {\n",
       "        vertical-align: top;\n",
       "    }\n",
       "\n",
       "    .dataframe thead th {\n",
       "        text-align: right;\n",
       "    }\n",
       "</style>\n",
       "<table border=\"1\" class=\"dataframe\">\n",
       "  <thead>\n",
       "    <tr style=\"text-align: right;\">\n",
       "      <th></th>\n",
       "      <th>mpg</th>\n",
       "      <th>cylinders</th>\n",
       "      <th>displacement</th>\n",
       "      <th>horsepower</th>\n",
       "      <th>weight</th>\n",
       "      <th>acceleration</th>\n",
       "      <th>year</th>\n",
       "      <th>origin</th>\n",
       "      <th>name</th>\n",
       "    </tr>\n",
       "  </thead>\n",
       "  <tbody>\n",
       "    <tr>\n",
       "      <th>0</th>\n",
       "      <td>18.0</td>\n",
       "      <td>8</td>\n",
       "      <td>307.0</td>\n",
       "      <td>130</td>\n",
       "      <td>3504</td>\n",
       "      <td>12.0</td>\n",
       "      <td>70</td>\n",
       "      <td>1</td>\n",
       "      <td>chevrolet chevelle malibu</td>\n",
       "    </tr>\n",
       "    <tr>\n",
       "      <th>1</th>\n",
       "      <td>15.0</td>\n",
       "      <td>8</td>\n",
       "      <td>350.0</td>\n",
       "      <td>165</td>\n",
       "      <td>3693</td>\n",
       "      <td>11.5</td>\n",
       "      <td>70</td>\n",
       "      <td>1</td>\n",
       "      <td>buick skylark 320</td>\n",
       "    </tr>\n",
       "    <tr>\n",
       "      <th>2</th>\n",
       "      <td>18.0</td>\n",
       "      <td>8</td>\n",
       "      <td>318.0</td>\n",
       "      <td>150</td>\n",
       "      <td>3436</td>\n",
       "      <td>11.0</td>\n",
       "      <td>70</td>\n",
       "      <td>1</td>\n",
       "      <td>plymouth satellite</td>\n",
       "    </tr>\n",
       "    <tr>\n",
       "      <th>3</th>\n",
       "      <td>16.0</td>\n",
       "      <td>8</td>\n",
       "      <td>304.0</td>\n",
       "      <td>150</td>\n",
       "      <td>3433</td>\n",
       "      <td>12.0</td>\n",
       "      <td>70</td>\n",
       "      <td>1</td>\n",
       "      <td>amc rebel sst</td>\n",
       "    </tr>\n",
       "    <tr>\n",
       "      <th>4</th>\n",
       "      <td>17.0</td>\n",
       "      <td>8</td>\n",
       "      <td>302.0</td>\n",
       "      <td>140</td>\n",
       "      <td>3449</td>\n",
       "      <td>10.5</td>\n",
       "      <td>70</td>\n",
       "      <td>1</td>\n",
       "      <td>ford torino</td>\n",
       "    </tr>\n",
       "    <tr>\n",
       "      <th>...</th>\n",
       "      <td>...</td>\n",
       "      <td>...</td>\n",
       "      <td>...</td>\n",
       "      <td>...</td>\n",
       "      <td>...</td>\n",
       "      <td>...</td>\n",
       "      <td>...</td>\n",
       "      <td>...</td>\n",
       "      <td>...</td>\n",
       "    </tr>\n",
       "    <tr>\n",
       "      <th>392</th>\n",
       "      <td>27.0</td>\n",
       "      <td>4</td>\n",
       "      <td>140.0</td>\n",
       "      <td>86</td>\n",
       "      <td>2790</td>\n",
       "      <td>15.6</td>\n",
       "      <td>82</td>\n",
       "      <td>1</td>\n",
       "      <td>ford mustang gl</td>\n",
       "    </tr>\n",
       "    <tr>\n",
       "      <th>393</th>\n",
       "      <td>44.0</td>\n",
       "      <td>4</td>\n",
       "      <td>97.0</td>\n",
       "      <td>52</td>\n",
       "      <td>2130</td>\n",
       "      <td>24.6</td>\n",
       "      <td>82</td>\n",
       "      <td>2</td>\n",
       "      <td>vw pickup</td>\n",
       "    </tr>\n",
       "    <tr>\n",
       "      <th>394</th>\n",
       "      <td>32.0</td>\n",
       "      <td>4</td>\n",
       "      <td>135.0</td>\n",
       "      <td>84</td>\n",
       "      <td>2295</td>\n",
       "      <td>11.6</td>\n",
       "      <td>82</td>\n",
       "      <td>1</td>\n",
       "      <td>dodge rampage</td>\n",
       "    </tr>\n",
       "    <tr>\n",
       "      <th>395</th>\n",
       "      <td>28.0</td>\n",
       "      <td>4</td>\n",
       "      <td>120.0</td>\n",
       "      <td>79</td>\n",
       "      <td>2625</td>\n",
       "      <td>18.6</td>\n",
       "      <td>82</td>\n",
       "      <td>1</td>\n",
       "      <td>ford ranger</td>\n",
       "    </tr>\n",
       "    <tr>\n",
       "      <th>396</th>\n",
       "      <td>31.0</td>\n",
       "      <td>4</td>\n",
       "      <td>119.0</td>\n",
       "      <td>82</td>\n",
       "      <td>2720</td>\n",
       "      <td>19.4</td>\n",
       "      <td>82</td>\n",
       "      <td>1</td>\n",
       "      <td>chevy s-10</td>\n",
       "    </tr>\n",
       "  </tbody>\n",
       "</table>\n",
       "<p>397 rows × 9 columns</p>\n",
       "</div>"
      ],
      "text/plain": [
       "      mpg  cylinders  displacement horsepower  weight  acceleration  year  \\\n",
       "0    18.0          8         307.0        130    3504          12.0    70   \n",
       "1    15.0          8         350.0        165    3693          11.5    70   \n",
       "2    18.0          8         318.0        150    3436          11.0    70   \n",
       "3    16.0          8         304.0        150    3433          12.0    70   \n",
       "4    17.0          8         302.0        140    3449          10.5    70   \n",
       "..    ...        ...           ...        ...     ...           ...   ...   \n",
       "392  27.0          4         140.0         86    2790          15.6    82   \n",
       "393  44.0          4          97.0         52    2130          24.6    82   \n",
       "394  32.0          4         135.0         84    2295          11.6    82   \n",
       "395  28.0          4         120.0         79    2625          18.6    82   \n",
       "396  31.0          4         119.0         82    2720          19.4    82   \n",
       "\n",
       "     origin                       name  \n",
       "0         1  chevrolet chevelle malibu  \n",
       "1         1          buick skylark 320  \n",
       "2         1         plymouth satellite  \n",
       "3         1              amc rebel sst  \n",
       "4         1                ford torino  \n",
       "..      ...                        ...  \n",
       "392       1            ford mustang gl  \n",
       "393       2                  vw pickup  \n",
       "394       1              dodge rampage  \n",
       "395       1                ford ranger  \n",
       "396       1                 chevy s-10  \n",
       "\n",
       "[397 rows x 9 columns]"
      ]
     },
     "execution_count": 239,
     "metadata": {},
     "output_type": "execute_result"
    }
   ],
   "source": [
    "import pandas as pd\n",
    "auto = pd.read_csv(\"Auto.csv\")\n",
    "auto"
   ]
  },
  {
   "cell_type": "code",
   "execution_count": 240,
   "id": "6e61b240",
   "metadata": {},
   "outputs": [],
   "source": [
    "# auto = pd.read_csv(\"Auto.data\", delim_whitespace=True)\n",
    "# auto"
   ]
  },
  {
   "cell_type": "code",
   "execution_count": 241,
   "id": "6edd294b",
   "metadata": {},
   "outputs": [
    {
     "data": {
      "text/plain": [
       "0      130\n",
       "1      165\n",
       "2      150\n",
       "3      150\n",
       "4      140\n",
       "      ... \n",
       "392     86\n",
       "393     52\n",
       "394     84\n",
       "395     79\n",
       "396     82\n",
       "Name: horsepower, Length: 397, dtype: object"
      ]
     },
     "execution_count": 241,
     "metadata": {},
     "output_type": "execute_result"
    }
   ],
   "source": [
    "auto[\"horsepower\"]"
   ]
  },
  {
   "cell_type": "code",
   "execution_count": 237,
   "id": "8d1a5220",
   "metadata": {},
   "outputs": [
    {
     "data": {
      "text/plain": [
       "array(['100.0', '102.0', '103.0', '105.0', '107.0', '108.0', '110.0',\n",
       "       '112.0', '113.0', '115.0', '116.0', '120.0', '122.0', '125.0',\n",
       "       '129.0', '130.0', '132.0', '133.0', '135.0', '137.0', '138.0',\n",
       "       '139.0', '140.0', '142.0', '145.0', '148.0', '149.0', '150.0',\n",
       "       '152.0', '153.0', '155.0', '158.0', '160.0', '165.0', '167.0',\n",
       "       '170.0', '175.0', '180.0', '190.0', '193.0', '198.0', '200.0',\n",
       "       '208.0', '210.0', '215.0', '220.0', '225.0', '230.0', '46.00',\n",
       "       '48.00', '49.00', '52.00', '53.00', '54.00', '58.00', '60.00',\n",
       "       '61.00', '62.00', '63.00', '64.00', '65.00', '66.00', '67.00',\n",
       "       '68.00', '69.00', '70.00', '71.00', '72.00', '74.00', '75.00',\n",
       "       '76.00', '77.00', '78.00', '79.00', '80.00', '81.00', '82.00',\n",
       "       '83.00', '84.00', '85.00', '86.00', '87.00', '88.00', '89.00',\n",
       "       '90.00', '91.00', '92.00', '93.00', '94.00', '95.00', '96.00',\n",
       "       '97.00', '98.00', '?'], dtype=object)"
      ]
     },
     "execution_count": 237,
     "metadata": {},
     "output_type": "execute_result"
    }
   ],
   "source": [
    "np.unique(auto['horsepower'])"
   ]
  },
  {
   "cell_type": "code",
   "execution_count": 243,
   "id": "8964bf1f",
   "metadata": {},
   "outputs": [
    {
     "data": {
      "text/plain": [
       "40952.0"
      ]
     },
     "execution_count": 243,
     "metadata": {},
     "output_type": "execute_result"
    }
   ],
   "source": [
    "auto = pd.read_csv(\"Auto.Data\", na_values=[\"?\"], delim_whitespace=True)\n",
    "auto['horsepower'].sum()"
   ]
  },
  {
   "cell_type": "code",
   "execution_count": 246,
   "id": "86571d67",
   "metadata": {},
   "outputs": [
    {
     "data": {
      "text/plain": [
       "array([ 46.,  48.,  49.,  52.,  53.,  54.,  58.,  60.,  61.,  62.,  63.,\n",
       "        64.,  65.,  66.,  67.,  68.,  69.,  70.,  71.,  72.,  74.,  75.,\n",
       "        76.,  77.,  78.,  79.,  80.,  81.,  82.,  83.,  84.,  85.,  86.,\n",
       "        87.,  88.,  89.,  90.,  91.,  92.,  93.,  94.,  95.,  96.,  97.,\n",
       "        98., 100., 102., 103., 105., 107., 108., 110., 112., 113., 115.,\n",
       "       116., 120., 122., 125., 129., 130., 132., 133., 135., 137., 138.,\n",
       "       139., 140., 142., 145., 148., 149., 150., 152., 153., 155., 158.,\n",
       "       160., 165., 167., 170., 175., 180., 190., 193., 198., 200., 208.,\n",
       "       210., 215., 220., 225., 230.,  nan])"
      ]
     },
     "execution_count": 246,
     "metadata": {},
     "output_type": "execute_result"
    }
   ],
   "source": [
    "np.unique(auto['horsepower'])"
   ]
  },
  {
   "cell_type": "code",
   "execution_count": 248,
   "id": "86d67d60",
   "metadata": {},
   "outputs": [
    {
     "data": {
      "text/plain": [
       "(397, 9)"
      ]
     },
     "execution_count": 248,
     "metadata": {},
     "output_type": "execute_result"
    }
   ],
   "source": [
    "auto.shape"
   ]
  },
  {
   "cell_type": "code",
   "execution_count": 250,
   "id": "c86902a0",
   "metadata": {},
   "outputs": [
    {
     "data": {
      "text/plain": [
       "True"
      ]
     },
     "execution_count": 250,
     "metadata": {},
     "output_type": "execute_result"
    }
   ],
   "source": [
    "auto.isnull().values.any()"
   ]
  },
  {
   "cell_type": "code",
   "execution_count": 251,
   "id": "32c8819b",
   "metadata": {},
   "outputs": [
    {
     "data": {
      "text/plain": [
       "mpg             False\n",
       "cylinders       False\n",
       "displacement    False\n",
       "horsepower       True\n",
       "weight          False\n",
       "acceleration    False\n",
       "year            False\n",
       "origin          False\n",
       "name            False\n",
       "dtype: bool"
      ]
     },
     "execution_count": 251,
     "metadata": {},
     "output_type": "execute_result"
    }
   ],
   "source": [
    "auto.isnull().any()"
   ]
  },
  {
   "cell_type": "code",
   "execution_count": 252,
   "id": "d28e979e",
   "metadata": {},
   "outputs": [
    {
     "data": {
      "text/plain": [
       "5"
      ]
     },
     "execution_count": 252,
     "metadata": {},
     "output_type": "execute_result"
    }
   ],
   "source": [
    "auto.isnull().values.sum()"
   ]
  },
  {
   "cell_type": "code",
   "execution_count": 253,
   "id": "b7230fe1",
   "metadata": {},
   "outputs": [
    {
     "data": {
      "text/html": [
       "<div>\n",
       "<style scoped>\n",
       "    .dataframe tbody tr th:only-of-type {\n",
       "        vertical-align: middle;\n",
       "    }\n",
       "\n",
       "    .dataframe tbody tr th {\n",
       "        vertical-align: top;\n",
       "    }\n",
       "\n",
       "    .dataframe thead th {\n",
       "        text-align: right;\n",
       "    }\n",
       "</style>\n",
       "<table border=\"1\" class=\"dataframe\">\n",
       "  <thead>\n",
       "    <tr style=\"text-align: right;\">\n",
       "      <th></th>\n",
       "      <th>mpg</th>\n",
       "      <th>cylinders</th>\n",
       "      <th>displacement</th>\n",
       "      <th>horsepower</th>\n",
       "      <th>weight</th>\n",
       "      <th>acceleration</th>\n",
       "      <th>year</th>\n",
       "      <th>origin</th>\n",
       "      <th>name</th>\n",
       "    </tr>\n",
       "  </thead>\n",
       "  <tbody>\n",
       "    <tr>\n",
       "      <th>0</th>\n",
       "      <td>18.0</td>\n",
       "      <td>8</td>\n",
       "      <td>307.0</td>\n",
       "      <td>130.0</td>\n",
       "      <td>3504.0</td>\n",
       "      <td>12.0</td>\n",
       "      <td>70</td>\n",
       "      <td>1</td>\n",
       "      <td>chevrolet chevelle malibu</td>\n",
       "    </tr>\n",
       "    <tr>\n",
       "      <th>1</th>\n",
       "      <td>15.0</td>\n",
       "      <td>8</td>\n",
       "      <td>350.0</td>\n",
       "      <td>165.0</td>\n",
       "      <td>3693.0</td>\n",
       "      <td>11.5</td>\n",
       "      <td>70</td>\n",
       "      <td>1</td>\n",
       "      <td>buick skylark 320</td>\n",
       "    </tr>\n",
       "    <tr>\n",
       "      <th>2</th>\n",
       "      <td>18.0</td>\n",
       "      <td>8</td>\n",
       "      <td>318.0</td>\n",
       "      <td>150.0</td>\n",
       "      <td>3436.0</td>\n",
       "      <td>11.0</td>\n",
       "      <td>70</td>\n",
       "      <td>1</td>\n",
       "      <td>plymouth satellite</td>\n",
       "    </tr>\n",
       "    <tr>\n",
       "      <th>3</th>\n",
       "      <td>16.0</td>\n",
       "      <td>8</td>\n",
       "      <td>304.0</td>\n",
       "      <td>150.0</td>\n",
       "      <td>3433.0</td>\n",
       "      <td>12.0</td>\n",
       "      <td>70</td>\n",
       "      <td>1</td>\n",
       "      <td>amc rebel sst</td>\n",
       "    </tr>\n",
       "    <tr>\n",
       "      <th>4</th>\n",
       "      <td>17.0</td>\n",
       "      <td>8</td>\n",
       "      <td>302.0</td>\n",
       "      <td>140.0</td>\n",
       "      <td>3449.0</td>\n",
       "      <td>10.5</td>\n",
       "      <td>70</td>\n",
       "      <td>1</td>\n",
       "      <td>ford torino</td>\n",
       "    </tr>\n",
       "    <tr>\n",
       "      <th>...</th>\n",
       "      <td>...</td>\n",
       "      <td>...</td>\n",
       "      <td>...</td>\n",
       "      <td>...</td>\n",
       "      <td>...</td>\n",
       "      <td>...</td>\n",
       "      <td>...</td>\n",
       "      <td>...</td>\n",
       "      <td>...</td>\n",
       "    </tr>\n",
       "    <tr>\n",
       "      <th>392</th>\n",
       "      <td>27.0</td>\n",
       "      <td>4</td>\n",
       "      <td>140.0</td>\n",
       "      <td>86.0</td>\n",
       "      <td>2790.0</td>\n",
       "      <td>15.6</td>\n",
       "      <td>82</td>\n",
       "      <td>1</td>\n",
       "      <td>ford mustang gl</td>\n",
       "    </tr>\n",
       "    <tr>\n",
       "      <th>393</th>\n",
       "      <td>44.0</td>\n",
       "      <td>4</td>\n",
       "      <td>97.0</td>\n",
       "      <td>52.0</td>\n",
       "      <td>2130.0</td>\n",
       "      <td>24.6</td>\n",
       "      <td>82</td>\n",
       "      <td>2</td>\n",
       "      <td>vw pickup</td>\n",
       "    </tr>\n",
       "    <tr>\n",
       "      <th>394</th>\n",
       "      <td>32.0</td>\n",
       "      <td>4</td>\n",
       "      <td>135.0</td>\n",
       "      <td>84.0</td>\n",
       "      <td>2295.0</td>\n",
       "      <td>11.6</td>\n",
       "      <td>82</td>\n",
       "      <td>1</td>\n",
       "      <td>dodge rampage</td>\n",
       "    </tr>\n",
       "    <tr>\n",
       "      <th>395</th>\n",
       "      <td>28.0</td>\n",
       "      <td>4</td>\n",
       "      <td>120.0</td>\n",
       "      <td>79.0</td>\n",
       "      <td>2625.0</td>\n",
       "      <td>18.6</td>\n",
       "      <td>82</td>\n",
       "      <td>1</td>\n",
       "      <td>ford ranger</td>\n",
       "    </tr>\n",
       "    <tr>\n",
       "      <th>396</th>\n",
       "      <td>31.0</td>\n",
       "      <td>4</td>\n",
       "      <td>119.0</td>\n",
       "      <td>82.0</td>\n",
       "      <td>2720.0</td>\n",
       "      <td>19.4</td>\n",
       "      <td>82</td>\n",
       "      <td>1</td>\n",
       "      <td>chevy s-10</td>\n",
       "    </tr>\n",
       "  </tbody>\n",
       "</table>\n",
       "<p>392 rows × 9 columns</p>\n",
       "</div>"
      ],
      "text/plain": [
       "      mpg  cylinders  displacement  horsepower  weight  acceleration  year  \\\n",
       "0    18.0          8         307.0       130.0  3504.0          12.0    70   \n",
       "1    15.0          8         350.0       165.0  3693.0          11.5    70   \n",
       "2    18.0          8         318.0       150.0  3436.0          11.0    70   \n",
       "3    16.0          8         304.0       150.0  3433.0          12.0    70   \n",
       "4    17.0          8         302.0       140.0  3449.0          10.5    70   \n",
       "..    ...        ...           ...         ...     ...           ...   ...   \n",
       "392  27.0          4         140.0        86.0  2790.0          15.6    82   \n",
       "393  44.0          4          97.0        52.0  2130.0          24.6    82   \n",
       "394  32.0          4         135.0        84.0  2295.0          11.6    82   \n",
       "395  28.0          4         120.0        79.0  2625.0          18.6    82   \n",
       "396  31.0          4         119.0        82.0  2720.0          19.4    82   \n",
       "\n",
       "     origin                       name  \n",
       "0         1  chevrolet chevelle malibu  \n",
       "1         1          buick skylark 320  \n",
       "2         1         plymouth satellite  \n",
       "3         1              amc rebel sst  \n",
       "4         1                ford torino  \n",
       "..      ...                        ...  \n",
       "392       1            ford mustang gl  \n",
       "393       2                  vw pickup  \n",
       "394       1              dodge rampage  \n",
       "395       1                ford ranger  \n",
       "396       1                 chevy s-10  \n",
       "\n",
       "[392 rows x 9 columns]"
      ]
     },
     "execution_count": 253,
     "metadata": {},
     "output_type": "execute_result"
    }
   ],
   "source": [
    "auto_new = auto.dropna()\n",
    "auto_new"
   ]
  },
  {
   "cell_type": "code",
   "execution_count": 254,
   "id": "4798af54",
   "metadata": {},
   "outputs": [
    {
     "data": {
      "text/plain": [
       "mpg             False\n",
       "cylinders       False\n",
       "displacement    False\n",
       "horsepower      False\n",
       "weight          False\n",
       "acceleration    False\n",
       "year            False\n",
       "origin          False\n",
       "name            False\n",
       "dtype: bool"
      ]
     },
     "execution_count": 254,
     "metadata": {},
     "output_type": "execute_result"
    }
   ],
   "source": [
    "auto_new.isnull().any()"
   ]
  },
  {
   "cell_type": "markdown",
   "id": "1ea52992",
   "metadata": {},
   "source": [
    "##### Basics on selecting Rows and Columns"
   ]
  },
  {
   "cell_type": "code",
   "execution_count": 255,
   "id": "137f115b",
   "metadata": {},
   "outputs": [
    {
     "data": {
      "text/plain": [
       "Index(['mpg', 'cylinders', 'displacement', 'horsepower', 'weight',\n",
       "       'acceleration', 'year', 'origin', 'name'],\n",
       "      dtype='object')"
      ]
     },
     "execution_count": 255,
     "metadata": {},
     "output_type": "execute_result"
    }
   ],
   "source": [
    "auto = auto_new\n",
    "auto.columns"
   ]
  },
  {
   "cell_type": "code",
   "execution_count": 260,
   "id": "f6308f92",
   "metadata": {},
   "outputs": [
    {
     "data": {
      "text/html": [
       "<div>\n",
       "<style scoped>\n",
       "    .dataframe tbody tr th:only-of-type {\n",
       "        vertical-align: middle;\n",
       "    }\n",
       "\n",
       "    .dataframe tbody tr th {\n",
       "        vertical-align: top;\n",
       "    }\n",
       "\n",
       "    .dataframe thead th {\n",
       "        text-align: right;\n",
       "    }\n",
       "</style>\n",
       "<table border=\"1\" class=\"dataframe\">\n",
       "  <thead>\n",
       "    <tr style=\"text-align: right;\">\n",
       "      <th></th>\n",
       "      <th>mpg</th>\n",
       "      <th>cylinders</th>\n",
       "      <th>displacement</th>\n",
       "      <th>horsepower</th>\n",
       "      <th>weight</th>\n",
       "      <th>acceleration</th>\n",
       "      <th>year</th>\n",
       "      <th>origin</th>\n",
       "      <th>name</th>\n",
       "    </tr>\n",
       "  </thead>\n",
       "  <tbody>\n",
       "    <tr>\n",
       "      <th>0</th>\n",
       "      <td>18.0</td>\n",
       "      <td>8</td>\n",
       "      <td>307.0</td>\n",
       "      <td>130.0</td>\n",
       "      <td>3504.0</td>\n",
       "      <td>12.0</td>\n",
       "      <td>70</td>\n",
       "      <td>1</td>\n",
       "      <td>chevrolet chevelle malibu</td>\n",
       "    </tr>\n",
       "    <tr>\n",
       "      <th>1</th>\n",
       "      <td>15.0</td>\n",
       "      <td>8</td>\n",
       "      <td>350.0</td>\n",
       "      <td>165.0</td>\n",
       "      <td>3693.0</td>\n",
       "      <td>11.5</td>\n",
       "      <td>70</td>\n",
       "      <td>1</td>\n",
       "      <td>buick skylark 320</td>\n",
       "    </tr>\n",
       "    <tr>\n",
       "      <th>2</th>\n",
       "      <td>18.0</td>\n",
       "      <td>8</td>\n",
       "      <td>318.0</td>\n",
       "      <td>150.0</td>\n",
       "      <td>3436.0</td>\n",
       "      <td>11.0</td>\n",
       "      <td>70</td>\n",
       "      <td>1</td>\n",
       "      <td>plymouth satellite</td>\n",
       "    </tr>\n",
       "  </tbody>\n",
       "</table>\n",
       "</div>"
      ],
      "text/plain": [
       "    mpg  cylinders  displacement  horsepower  weight  acceleration  year  \\\n",
       "0  18.0          8         307.0       130.0  3504.0          12.0    70   \n",
       "1  15.0          8         350.0       165.0  3693.0          11.5    70   \n",
       "2  18.0          8         318.0       150.0  3436.0          11.0    70   \n",
       "\n",
       "   origin                       name  \n",
       "0       1  chevrolet chevelle malibu  \n",
       "1       1          buick skylark 320  \n",
       "2       1         plymouth satellite  "
      ]
     },
     "execution_count": 260,
     "metadata": {},
     "output_type": "execute_result"
    }
   ],
   "source": [
    "auto[:3]"
   ]
  },
  {
   "cell_type": "code",
   "execution_count": 267,
   "id": "9c659da9",
   "metadata": {},
   "outputs": [
    {
     "data": {
      "text/plain": [
       "0      False\n",
       "1      False\n",
       "2      False\n",
       "3      False\n",
       "4      False\n",
       "       ...  \n",
       "392     True\n",
       "393     True\n",
       "394     True\n",
       "395     True\n",
       "396     True\n",
       "Name: year, Length: 392, dtype: bool"
      ]
     },
     "execution_count": 267,
     "metadata": {},
     "output_type": "execute_result"
    }
   ],
   "source": [
    "idx_80 = auto['year']>80\n",
    "idx_80"
   ]
  },
  {
   "cell_type": "code",
   "execution_count": 268,
   "id": "71a074ad",
   "metadata": {},
   "outputs": [
    {
     "data": {
      "text/html": [
       "<div>\n",
       "<style scoped>\n",
       "    .dataframe tbody tr th:only-of-type {\n",
       "        vertical-align: middle;\n",
       "    }\n",
       "\n",
       "    .dataframe tbody tr th {\n",
       "        vertical-align: top;\n",
       "    }\n",
       "\n",
       "    .dataframe thead th {\n",
       "        text-align: right;\n",
       "    }\n",
       "</style>\n",
       "<table border=\"1\" class=\"dataframe\">\n",
       "  <thead>\n",
       "    <tr style=\"text-align: right;\">\n",
       "      <th></th>\n",
       "      <th>mpg</th>\n",
       "      <th>cylinders</th>\n",
       "      <th>displacement</th>\n",
       "      <th>horsepower</th>\n",
       "      <th>weight</th>\n",
       "      <th>acceleration</th>\n",
       "      <th>year</th>\n",
       "      <th>origin</th>\n",
       "      <th>name</th>\n",
       "    </tr>\n",
       "  </thead>\n",
       "  <tbody>\n",
       "    <tr>\n",
       "      <th>338</th>\n",
       "      <td>27.2</td>\n",
       "      <td>4</td>\n",
       "      <td>135.0</td>\n",
       "      <td>84.0</td>\n",
       "      <td>2490.0</td>\n",
       "      <td>15.7</td>\n",
       "      <td>81</td>\n",
       "      <td>1</td>\n",
       "      <td>plymouth reliant</td>\n",
       "    </tr>\n",
       "    <tr>\n",
       "      <th>339</th>\n",
       "      <td>26.6</td>\n",
       "      <td>4</td>\n",
       "      <td>151.0</td>\n",
       "      <td>84.0</td>\n",
       "      <td>2635.0</td>\n",
       "      <td>16.4</td>\n",
       "      <td>81</td>\n",
       "      <td>1</td>\n",
       "      <td>buick skylark</td>\n",
       "    </tr>\n",
       "    <tr>\n",
       "      <th>340</th>\n",
       "      <td>25.8</td>\n",
       "      <td>4</td>\n",
       "      <td>156.0</td>\n",
       "      <td>92.0</td>\n",
       "      <td>2620.0</td>\n",
       "      <td>14.4</td>\n",
       "      <td>81</td>\n",
       "      <td>1</td>\n",
       "      <td>dodge aries wagon (sw)</td>\n",
       "    </tr>\n",
       "    <tr>\n",
       "      <th>341</th>\n",
       "      <td>23.5</td>\n",
       "      <td>6</td>\n",
       "      <td>173.0</td>\n",
       "      <td>110.0</td>\n",
       "      <td>2725.0</td>\n",
       "      <td>12.6</td>\n",
       "      <td>81</td>\n",
       "      <td>1</td>\n",
       "      <td>chevrolet citation</td>\n",
       "    </tr>\n",
       "    <tr>\n",
       "      <th>342</th>\n",
       "      <td>30.0</td>\n",
       "      <td>4</td>\n",
       "      <td>135.0</td>\n",
       "      <td>84.0</td>\n",
       "      <td>2385.0</td>\n",
       "      <td>12.9</td>\n",
       "      <td>81</td>\n",
       "      <td>1</td>\n",
       "      <td>plymouth reliant</td>\n",
       "    </tr>\n",
       "    <tr>\n",
       "      <th>343</th>\n",
       "      <td>39.1</td>\n",
       "      <td>4</td>\n",
       "      <td>79.0</td>\n",
       "      <td>58.0</td>\n",
       "      <td>1755.0</td>\n",
       "      <td>16.9</td>\n",
       "      <td>81</td>\n",
       "      <td>3</td>\n",
       "      <td>toyota starlet</td>\n",
       "    </tr>\n",
       "    <tr>\n",
       "      <th>344</th>\n",
       "      <td>39.0</td>\n",
       "      <td>4</td>\n",
       "      <td>86.0</td>\n",
       "      <td>64.0</td>\n",
       "      <td>1875.0</td>\n",
       "      <td>16.4</td>\n",
       "      <td>81</td>\n",
       "      <td>1</td>\n",
       "      <td>plymouth champ</td>\n",
       "    </tr>\n",
       "    <tr>\n",
       "      <th>345</th>\n",
       "      <td>35.1</td>\n",
       "      <td>4</td>\n",
       "      <td>81.0</td>\n",
       "      <td>60.0</td>\n",
       "      <td>1760.0</td>\n",
       "      <td>16.1</td>\n",
       "      <td>81</td>\n",
       "      <td>3</td>\n",
       "      <td>honda civic 1300</td>\n",
       "    </tr>\n",
       "    <tr>\n",
       "      <th>346</th>\n",
       "      <td>32.3</td>\n",
       "      <td>4</td>\n",
       "      <td>97.0</td>\n",
       "      <td>67.0</td>\n",
       "      <td>2065.0</td>\n",
       "      <td>17.8</td>\n",
       "      <td>81</td>\n",
       "      <td>3</td>\n",
       "      <td>subaru</td>\n",
       "    </tr>\n",
       "    <tr>\n",
       "      <th>347</th>\n",
       "      <td>37.0</td>\n",
       "      <td>4</td>\n",
       "      <td>85.0</td>\n",
       "      <td>65.0</td>\n",
       "      <td>1975.0</td>\n",
       "      <td>19.4</td>\n",
       "      <td>81</td>\n",
       "      <td>3</td>\n",
       "      <td>datsun 210 mpg</td>\n",
       "    </tr>\n",
       "    <tr>\n",
       "      <th>348</th>\n",
       "      <td>37.7</td>\n",
       "      <td>4</td>\n",
       "      <td>89.0</td>\n",
       "      <td>62.0</td>\n",
       "      <td>2050.0</td>\n",
       "      <td>17.3</td>\n",
       "      <td>81</td>\n",
       "      <td>3</td>\n",
       "      <td>toyota tercel</td>\n",
       "    </tr>\n",
       "    <tr>\n",
       "      <th>349</th>\n",
       "      <td>34.1</td>\n",
       "      <td>4</td>\n",
       "      <td>91.0</td>\n",
       "      <td>68.0</td>\n",
       "      <td>1985.0</td>\n",
       "      <td>16.0</td>\n",
       "      <td>81</td>\n",
       "      <td>3</td>\n",
       "      <td>mazda glc 4</td>\n",
       "    </tr>\n",
       "    <tr>\n",
       "      <th>350</th>\n",
       "      <td>34.7</td>\n",
       "      <td>4</td>\n",
       "      <td>105.0</td>\n",
       "      <td>63.0</td>\n",
       "      <td>2215.0</td>\n",
       "      <td>14.9</td>\n",
       "      <td>81</td>\n",
       "      <td>1</td>\n",
       "      <td>plymouth horizon 4</td>\n",
       "    </tr>\n",
       "    <tr>\n",
       "      <th>351</th>\n",
       "      <td>34.4</td>\n",
       "      <td>4</td>\n",
       "      <td>98.0</td>\n",
       "      <td>65.0</td>\n",
       "      <td>2045.0</td>\n",
       "      <td>16.2</td>\n",
       "      <td>81</td>\n",
       "      <td>1</td>\n",
       "      <td>ford escort 4w</td>\n",
       "    </tr>\n",
       "    <tr>\n",
       "      <th>352</th>\n",
       "      <td>29.9</td>\n",
       "      <td>4</td>\n",
       "      <td>98.0</td>\n",
       "      <td>65.0</td>\n",
       "      <td>2380.0</td>\n",
       "      <td>20.7</td>\n",
       "      <td>81</td>\n",
       "      <td>1</td>\n",
       "      <td>ford escort 2h</td>\n",
       "    </tr>\n",
       "    <tr>\n",
       "      <th>353</th>\n",
       "      <td>33.0</td>\n",
       "      <td>4</td>\n",
       "      <td>105.0</td>\n",
       "      <td>74.0</td>\n",
       "      <td>2190.0</td>\n",
       "      <td>14.2</td>\n",
       "      <td>81</td>\n",
       "      <td>2</td>\n",
       "      <td>volkswagen jetta</td>\n",
       "    </tr>\n",
       "    <tr>\n",
       "      <th>355</th>\n",
       "      <td>33.7</td>\n",
       "      <td>4</td>\n",
       "      <td>107.0</td>\n",
       "      <td>75.0</td>\n",
       "      <td>2210.0</td>\n",
       "      <td>14.4</td>\n",
       "      <td>81</td>\n",
       "      <td>3</td>\n",
       "      <td>honda prelude</td>\n",
       "    </tr>\n",
       "    <tr>\n",
       "      <th>356</th>\n",
       "      <td>32.4</td>\n",
       "      <td>4</td>\n",
       "      <td>108.0</td>\n",
       "      <td>75.0</td>\n",
       "      <td>2350.0</td>\n",
       "      <td>16.8</td>\n",
       "      <td>81</td>\n",
       "      <td>3</td>\n",
       "      <td>toyota corolla</td>\n",
       "    </tr>\n",
       "    <tr>\n",
       "      <th>357</th>\n",
       "      <td>32.9</td>\n",
       "      <td>4</td>\n",
       "      <td>119.0</td>\n",
       "      <td>100.0</td>\n",
       "      <td>2615.0</td>\n",
       "      <td>14.8</td>\n",
       "      <td>81</td>\n",
       "      <td>3</td>\n",
       "      <td>datsun 200sx</td>\n",
       "    </tr>\n",
       "    <tr>\n",
       "      <th>358</th>\n",
       "      <td>31.6</td>\n",
       "      <td>4</td>\n",
       "      <td>120.0</td>\n",
       "      <td>74.0</td>\n",
       "      <td>2635.0</td>\n",
       "      <td>18.3</td>\n",
       "      <td>81</td>\n",
       "      <td>3</td>\n",
       "      <td>mazda 626</td>\n",
       "    </tr>\n",
       "    <tr>\n",
       "      <th>359</th>\n",
       "      <td>28.1</td>\n",
       "      <td>4</td>\n",
       "      <td>141.0</td>\n",
       "      <td>80.0</td>\n",
       "      <td>3230.0</td>\n",
       "      <td>20.4</td>\n",
       "      <td>81</td>\n",
       "      <td>2</td>\n",
       "      <td>peugeot 505s turbo diesel</td>\n",
       "    </tr>\n",
       "    <tr>\n",
       "      <th>360</th>\n",
       "      <td>30.7</td>\n",
       "      <td>6</td>\n",
       "      <td>145.0</td>\n",
       "      <td>76.0</td>\n",
       "      <td>3160.0</td>\n",
       "      <td>19.6</td>\n",
       "      <td>81</td>\n",
       "      <td>2</td>\n",
       "      <td>volvo diesel</td>\n",
       "    </tr>\n",
       "    <tr>\n",
       "      <th>361</th>\n",
       "      <td>25.4</td>\n",
       "      <td>6</td>\n",
       "      <td>168.0</td>\n",
       "      <td>116.0</td>\n",
       "      <td>2900.0</td>\n",
       "      <td>12.6</td>\n",
       "      <td>81</td>\n",
       "      <td>3</td>\n",
       "      <td>toyota cressida</td>\n",
       "    </tr>\n",
       "    <tr>\n",
       "      <th>362</th>\n",
       "      <td>24.2</td>\n",
       "      <td>6</td>\n",
       "      <td>146.0</td>\n",
       "      <td>120.0</td>\n",
       "      <td>2930.0</td>\n",
       "      <td>13.8</td>\n",
       "      <td>81</td>\n",
       "      <td>3</td>\n",
       "      <td>datsun 810 maxima</td>\n",
       "    </tr>\n",
       "    <tr>\n",
       "      <th>363</th>\n",
       "      <td>22.4</td>\n",
       "      <td>6</td>\n",
       "      <td>231.0</td>\n",
       "      <td>110.0</td>\n",
       "      <td>3415.0</td>\n",
       "      <td>15.8</td>\n",
       "      <td>81</td>\n",
       "      <td>1</td>\n",
       "      <td>buick century</td>\n",
       "    </tr>\n",
       "    <tr>\n",
       "      <th>364</th>\n",
       "      <td>26.6</td>\n",
       "      <td>8</td>\n",
       "      <td>350.0</td>\n",
       "      <td>105.0</td>\n",
       "      <td>3725.0</td>\n",
       "      <td>19.0</td>\n",
       "      <td>81</td>\n",
       "      <td>1</td>\n",
       "      <td>oldsmobile cutlass ls</td>\n",
       "    </tr>\n",
       "    <tr>\n",
       "      <th>365</th>\n",
       "      <td>20.2</td>\n",
       "      <td>6</td>\n",
       "      <td>200.0</td>\n",
       "      <td>88.0</td>\n",
       "      <td>3060.0</td>\n",
       "      <td>17.1</td>\n",
       "      <td>81</td>\n",
       "      <td>1</td>\n",
       "      <td>ford granada gl</td>\n",
       "    </tr>\n",
       "    <tr>\n",
       "      <th>366</th>\n",
       "      <td>17.6</td>\n",
       "      <td>6</td>\n",
       "      <td>225.0</td>\n",
       "      <td>85.0</td>\n",
       "      <td>3465.0</td>\n",
       "      <td>16.6</td>\n",
       "      <td>81</td>\n",
       "      <td>1</td>\n",
       "      <td>chrysler lebaron salon</td>\n",
       "    </tr>\n",
       "    <tr>\n",
       "      <th>367</th>\n",
       "      <td>28.0</td>\n",
       "      <td>4</td>\n",
       "      <td>112.0</td>\n",
       "      <td>88.0</td>\n",
       "      <td>2605.0</td>\n",
       "      <td>19.6</td>\n",
       "      <td>82</td>\n",
       "      <td>1</td>\n",
       "      <td>chevrolet cavalier</td>\n",
       "    </tr>\n",
       "    <tr>\n",
       "      <th>368</th>\n",
       "      <td>27.0</td>\n",
       "      <td>4</td>\n",
       "      <td>112.0</td>\n",
       "      <td>88.0</td>\n",
       "      <td>2640.0</td>\n",
       "      <td>18.6</td>\n",
       "      <td>82</td>\n",
       "      <td>1</td>\n",
       "      <td>chevrolet cavalier wagon</td>\n",
       "    </tr>\n",
       "    <tr>\n",
       "      <th>369</th>\n",
       "      <td>34.0</td>\n",
       "      <td>4</td>\n",
       "      <td>112.0</td>\n",
       "      <td>88.0</td>\n",
       "      <td>2395.0</td>\n",
       "      <td>18.0</td>\n",
       "      <td>82</td>\n",
       "      <td>1</td>\n",
       "      <td>chevrolet cavalier 2-door</td>\n",
       "    </tr>\n",
       "    <tr>\n",
       "      <th>370</th>\n",
       "      <td>31.0</td>\n",
       "      <td>4</td>\n",
       "      <td>112.0</td>\n",
       "      <td>85.0</td>\n",
       "      <td>2575.0</td>\n",
       "      <td>16.2</td>\n",
       "      <td>82</td>\n",
       "      <td>1</td>\n",
       "      <td>pontiac j2000 se hatchback</td>\n",
       "    </tr>\n",
       "    <tr>\n",
       "      <th>371</th>\n",
       "      <td>29.0</td>\n",
       "      <td>4</td>\n",
       "      <td>135.0</td>\n",
       "      <td>84.0</td>\n",
       "      <td>2525.0</td>\n",
       "      <td>16.0</td>\n",
       "      <td>82</td>\n",
       "      <td>1</td>\n",
       "      <td>dodge aries se</td>\n",
       "    </tr>\n",
       "    <tr>\n",
       "      <th>372</th>\n",
       "      <td>27.0</td>\n",
       "      <td>4</td>\n",
       "      <td>151.0</td>\n",
       "      <td>90.0</td>\n",
       "      <td>2735.0</td>\n",
       "      <td>18.0</td>\n",
       "      <td>82</td>\n",
       "      <td>1</td>\n",
       "      <td>pontiac phoenix</td>\n",
       "    </tr>\n",
       "    <tr>\n",
       "      <th>373</th>\n",
       "      <td>24.0</td>\n",
       "      <td>4</td>\n",
       "      <td>140.0</td>\n",
       "      <td>92.0</td>\n",
       "      <td>2865.0</td>\n",
       "      <td>16.4</td>\n",
       "      <td>82</td>\n",
       "      <td>1</td>\n",
       "      <td>ford fairmont futura</td>\n",
       "    </tr>\n",
       "    <tr>\n",
       "      <th>374</th>\n",
       "      <td>36.0</td>\n",
       "      <td>4</td>\n",
       "      <td>105.0</td>\n",
       "      <td>74.0</td>\n",
       "      <td>1980.0</td>\n",
       "      <td>15.3</td>\n",
       "      <td>82</td>\n",
       "      <td>2</td>\n",
       "      <td>volkswagen rabbit l</td>\n",
       "    </tr>\n",
       "    <tr>\n",
       "      <th>375</th>\n",
       "      <td>37.0</td>\n",
       "      <td>4</td>\n",
       "      <td>91.0</td>\n",
       "      <td>68.0</td>\n",
       "      <td>2025.0</td>\n",
       "      <td>18.2</td>\n",
       "      <td>82</td>\n",
       "      <td>3</td>\n",
       "      <td>mazda glc custom l</td>\n",
       "    </tr>\n",
       "    <tr>\n",
       "      <th>376</th>\n",
       "      <td>31.0</td>\n",
       "      <td>4</td>\n",
       "      <td>91.0</td>\n",
       "      <td>68.0</td>\n",
       "      <td>1970.0</td>\n",
       "      <td>17.6</td>\n",
       "      <td>82</td>\n",
       "      <td>3</td>\n",
       "      <td>mazda glc custom</td>\n",
       "    </tr>\n",
       "    <tr>\n",
       "      <th>377</th>\n",
       "      <td>38.0</td>\n",
       "      <td>4</td>\n",
       "      <td>105.0</td>\n",
       "      <td>63.0</td>\n",
       "      <td>2125.0</td>\n",
       "      <td>14.7</td>\n",
       "      <td>82</td>\n",
       "      <td>1</td>\n",
       "      <td>plymouth horizon miser</td>\n",
       "    </tr>\n",
       "    <tr>\n",
       "      <th>378</th>\n",
       "      <td>36.0</td>\n",
       "      <td>4</td>\n",
       "      <td>98.0</td>\n",
       "      <td>70.0</td>\n",
       "      <td>2125.0</td>\n",
       "      <td>17.3</td>\n",
       "      <td>82</td>\n",
       "      <td>1</td>\n",
       "      <td>mercury lynx l</td>\n",
       "    </tr>\n",
       "    <tr>\n",
       "      <th>379</th>\n",
       "      <td>36.0</td>\n",
       "      <td>4</td>\n",
       "      <td>120.0</td>\n",
       "      <td>88.0</td>\n",
       "      <td>2160.0</td>\n",
       "      <td>14.5</td>\n",
       "      <td>82</td>\n",
       "      <td>3</td>\n",
       "      <td>nissan stanza xe</td>\n",
       "    </tr>\n",
       "    <tr>\n",
       "      <th>380</th>\n",
       "      <td>36.0</td>\n",
       "      <td>4</td>\n",
       "      <td>107.0</td>\n",
       "      <td>75.0</td>\n",
       "      <td>2205.0</td>\n",
       "      <td>14.5</td>\n",
       "      <td>82</td>\n",
       "      <td>3</td>\n",
       "      <td>honda accord</td>\n",
       "    </tr>\n",
       "    <tr>\n",
       "      <th>381</th>\n",
       "      <td>34.0</td>\n",
       "      <td>4</td>\n",
       "      <td>108.0</td>\n",
       "      <td>70.0</td>\n",
       "      <td>2245.0</td>\n",
       "      <td>16.9</td>\n",
       "      <td>82</td>\n",
       "      <td>3</td>\n",
       "      <td>toyota corolla</td>\n",
       "    </tr>\n",
       "    <tr>\n",
       "      <th>382</th>\n",
       "      <td>38.0</td>\n",
       "      <td>4</td>\n",
       "      <td>91.0</td>\n",
       "      <td>67.0</td>\n",
       "      <td>1965.0</td>\n",
       "      <td>15.0</td>\n",
       "      <td>82</td>\n",
       "      <td>3</td>\n",
       "      <td>honda civic</td>\n",
       "    </tr>\n",
       "    <tr>\n",
       "      <th>383</th>\n",
       "      <td>32.0</td>\n",
       "      <td>4</td>\n",
       "      <td>91.0</td>\n",
       "      <td>67.0</td>\n",
       "      <td>1965.0</td>\n",
       "      <td>15.7</td>\n",
       "      <td>82</td>\n",
       "      <td>3</td>\n",
       "      <td>honda civic (auto)</td>\n",
       "    </tr>\n",
       "    <tr>\n",
       "      <th>384</th>\n",
       "      <td>38.0</td>\n",
       "      <td>4</td>\n",
       "      <td>91.0</td>\n",
       "      <td>67.0</td>\n",
       "      <td>1995.0</td>\n",
       "      <td>16.2</td>\n",
       "      <td>82</td>\n",
       "      <td>3</td>\n",
       "      <td>datsun 310 gx</td>\n",
       "    </tr>\n",
       "    <tr>\n",
       "      <th>385</th>\n",
       "      <td>25.0</td>\n",
       "      <td>6</td>\n",
       "      <td>181.0</td>\n",
       "      <td>110.0</td>\n",
       "      <td>2945.0</td>\n",
       "      <td>16.4</td>\n",
       "      <td>82</td>\n",
       "      <td>1</td>\n",
       "      <td>buick century limited</td>\n",
       "    </tr>\n",
       "    <tr>\n",
       "      <th>386</th>\n",
       "      <td>38.0</td>\n",
       "      <td>6</td>\n",
       "      <td>262.0</td>\n",
       "      <td>85.0</td>\n",
       "      <td>3015.0</td>\n",
       "      <td>17.0</td>\n",
       "      <td>82</td>\n",
       "      <td>1</td>\n",
       "      <td>oldsmobile cutlass ciera (diesel)</td>\n",
       "    </tr>\n",
       "    <tr>\n",
       "      <th>387</th>\n",
       "      <td>26.0</td>\n",
       "      <td>4</td>\n",
       "      <td>156.0</td>\n",
       "      <td>92.0</td>\n",
       "      <td>2585.0</td>\n",
       "      <td>14.5</td>\n",
       "      <td>82</td>\n",
       "      <td>1</td>\n",
       "      <td>chrysler lebaron medallion</td>\n",
       "    </tr>\n",
       "    <tr>\n",
       "      <th>388</th>\n",
       "      <td>22.0</td>\n",
       "      <td>6</td>\n",
       "      <td>232.0</td>\n",
       "      <td>112.0</td>\n",
       "      <td>2835.0</td>\n",
       "      <td>14.7</td>\n",
       "      <td>82</td>\n",
       "      <td>1</td>\n",
       "      <td>ford granada l</td>\n",
       "    </tr>\n",
       "    <tr>\n",
       "      <th>389</th>\n",
       "      <td>32.0</td>\n",
       "      <td>4</td>\n",
       "      <td>144.0</td>\n",
       "      <td>96.0</td>\n",
       "      <td>2665.0</td>\n",
       "      <td>13.9</td>\n",
       "      <td>82</td>\n",
       "      <td>3</td>\n",
       "      <td>toyota celica gt</td>\n",
       "    </tr>\n",
       "    <tr>\n",
       "      <th>390</th>\n",
       "      <td>36.0</td>\n",
       "      <td>4</td>\n",
       "      <td>135.0</td>\n",
       "      <td>84.0</td>\n",
       "      <td>2370.0</td>\n",
       "      <td>13.0</td>\n",
       "      <td>82</td>\n",
       "      <td>1</td>\n",
       "      <td>dodge charger 2.2</td>\n",
       "    </tr>\n",
       "    <tr>\n",
       "      <th>391</th>\n",
       "      <td>27.0</td>\n",
       "      <td>4</td>\n",
       "      <td>151.0</td>\n",
       "      <td>90.0</td>\n",
       "      <td>2950.0</td>\n",
       "      <td>17.3</td>\n",
       "      <td>82</td>\n",
       "      <td>1</td>\n",
       "      <td>chevrolet camaro</td>\n",
       "    </tr>\n",
       "    <tr>\n",
       "      <th>392</th>\n",
       "      <td>27.0</td>\n",
       "      <td>4</td>\n",
       "      <td>140.0</td>\n",
       "      <td>86.0</td>\n",
       "      <td>2790.0</td>\n",
       "      <td>15.6</td>\n",
       "      <td>82</td>\n",
       "      <td>1</td>\n",
       "      <td>ford mustang gl</td>\n",
       "    </tr>\n",
       "    <tr>\n",
       "      <th>393</th>\n",
       "      <td>44.0</td>\n",
       "      <td>4</td>\n",
       "      <td>97.0</td>\n",
       "      <td>52.0</td>\n",
       "      <td>2130.0</td>\n",
       "      <td>24.6</td>\n",
       "      <td>82</td>\n",
       "      <td>2</td>\n",
       "      <td>vw pickup</td>\n",
       "    </tr>\n",
       "    <tr>\n",
       "      <th>394</th>\n",
       "      <td>32.0</td>\n",
       "      <td>4</td>\n",
       "      <td>135.0</td>\n",
       "      <td>84.0</td>\n",
       "      <td>2295.0</td>\n",
       "      <td>11.6</td>\n",
       "      <td>82</td>\n",
       "      <td>1</td>\n",
       "      <td>dodge rampage</td>\n",
       "    </tr>\n",
       "    <tr>\n",
       "      <th>395</th>\n",
       "      <td>28.0</td>\n",
       "      <td>4</td>\n",
       "      <td>120.0</td>\n",
       "      <td>79.0</td>\n",
       "      <td>2625.0</td>\n",
       "      <td>18.6</td>\n",
       "      <td>82</td>\n",
       "      <td>1</td>\n",
       "      <td>ford ranger</td>\n",
       "    </tr>\n",
       "    <tr>\n",
       "      <th>396</th>\n",
       "      <td>31.0</td>\n",
       "      <td>4</td>\n",
       "      <td>119.0</td>\n",
       "      <td>82.0</td>\n",
       "      <td>2720.0</td>\n",
       "      <td>19.4</td>\n",
       "      <td>82</td>\n",
       "      <td>1</td>\n",
       "      <td>chevy s-10</td>\n",
       "    </tr>\n",
       "  </tbody>\n",
       "</table>\n",
       "</div>"
      ],
      "text/plain": [
       "      mpg  cylinders  displacement  horsepower  weight  acceleration  year  \\\n",
       "338  27.2          4         135.0        84.0  2490.0          15.7    81   \n",
       "339  26.6          4         151.0        84.0  2635.0          16.4    81   \n",
       "340  25.8          4         156.0        92.0  2620.0          14.4    81   \n",
       "341  23.5          6         173.0       110.0  2725.0          12.6    81   \n",
       "342  30.0          4         135.0        84.0  2385.0          12.9    81   \n",
       "343  39.1          4          79.0        58.0  1755.0          16.9    81   \n",
       "344  39.0          4          86.0        64.0  1875.0          16.4    81   \n",
       "345  35.1          4          81.0        60.0  1760.0          16.1    81   \n",
       "346  32.3          4          97.0        67.0  2065.0          17.8    81   \n",
       "347  37.0          4          85.0        65.0  1975.0          19.4    81   \n",
       "348  37.7          4          89.0        62.0  2050.0          17.3    81   \n",
       "349  34.1          4          91.0        68.0  1985.0          16.0    81   \n",
       "350  34.7          4         105.0        63.0  2215.0          14.9    81   \n",
       "351  34.4          4          98.0        65.0  2045.0          16.2    81   \n",
       "352  29.9          4          98.0        65.0  2380.0          20.7    81   \n",
       "353  33.0          4         105.0        74.0  2190.0          14.2    81   \n",
       "355  33.7          4         107.0        75.0  2210.0          14.4    81   \n",
       "356  32.4          4         108.0        75.0  2350.0          16.8    81   \n",
       "357  32.9          4         119.0       100.0  2615.0          14.8    81   \n",
       "358  31.6          4         120.0        74.0  2635.0          18.3    81   \n",
       "359  28.1          4         141.0        80.0  3230.0          20.4    81   \n",
       "360  30.7          6         145.0        76.0  3160.0          19.6    81   \n",
       "361  25.4          6         168.0       116.0  2900.0          12.6    81   \n",
       "362  24.2          6         146.0       120.0  2930.0          13.8    81   \n",
       "363  22.4          6         231.0       110.0  3415.0          15.8    81   \n",
       "364  26.6          8         350.0       105.0  3725.0          19.0    81   \n",
       "365  20.2          6         200.0        88.0  3060.0          17.1    81   \n",
       "366  17.6          6         225.0        85.0  3465.0          16.6    81   \n",
       "367  28.0          4         112.0        88.0  2605.0          19.6    82   \n",
       "368  27.0          4         112.0        88.0  2640.0          18.6    82   \n",
       "369  34.0          4         112.0        88.0  2395.0          18.0    82   \n",
       "370  31.0          4         112.0        85.0  2575.0          16.2    82   \n",
       "371  29.0          4         135.0        84.0  2525.0          16.0    82   \n",
       "372  27.0          4         151.0        90.0  2735.0          18.0    82   \n",
       "373  24.0          4         140.0        92.0  2865.0          16.4    82   \n",
       "374  36.0          4         105.0        74.0  1980.0          15.3    82   \n",
       "375  37.0          4          91.0        68.0  2025.0          18.2    82   \n",
       "376  31.0          4          91.0        68.0  1970.0          17.6    82   \n",
       "377  38.0          4         105.0        63.0  2125.0          14.7    82   \n",
       "378  36.0          4          98.0        70.0  2125.0          17.3    82   \n",
       "379  36.0          4         120.0        88.0  2160.0          14.5    82   \n",
       "380  36.0          4         107.0        75.0  2205.0          14.5    82   \n",
       "381  34.0          4         108.0        70.0  2245.0          16.9    82   \n",
       "382  38.0          4          91.0        67.0  1965.0          15.0    82   \n",
       "383  32.0          4          91.0        67.0  1965.0          15.7    82   \n",
       "384  38.0          4          91.0        67.0  1995.0          16.2    82   \n",
       "385  25.0          6         181.0       110.0  2945.0          16.4    82   \n",
       "386  38.0          6         262.0        85.0  3015.0          17.0    82   \n",
       "387  26.0          4         156.0        92.0  2585.0          14.5    82   \n",
       "388  22.0          6         232.0       112.0  2835.0          14.7    82   \n",
       "389  32.0          4         144.0        96.0  2665.0          13.9    82   \n",
       "390  36.0          4         135.0        84.0  2370.0          13.0    82   \n",
       "391  27.0          4         151.0        90.0  2950.0          17.3    82   \n",
       "392  27.0          4         140.0        86.0  2790.0          15.6    82   \n",
       "393  44.0          4          97.0        52.0  2130.0          24.6    82   \n",
       "394  32.0          4         135.0        84.0  2295.0          11.6    82   \n",
       "395  28.0          4         120.0        79.0  2625.0          18.6    82   \n",
       "396  31.0          4         119.0        82.0  2720.0          19.4    82   \n",
       "\n",
       "     origin                               name  \n",
       "338       1                   plymouth reliant  \n",
       "339       1                      buick skylark  \n",
       "340       1             dodge aries wagon (sw)  \n",
       "341       1                 chevrolet citation  \n",
       "342       1                   plymouth reliant  \n",
       "343       3                     toyota starlet  \n",
       "344       1                     plymouth champ  \n",
       "345       3                   honda civic 1300  \n",
       "346       3                             subaru  \n",
       "347       3                     datsun 210 mpg  \n",
       "348       3                      toyota tercel  \n",
       "349       3                        mazda glc 4  \n",
       "350       1                 plymouth horizon 4  \n",
       "351       1                     ford escort 4w  \n",
       "352       1                     ford escort 2h  \n",
       "353       2                   volkswagen jetta  \n",
       "355       3                      honda prelude  \n",
       "356       3                     toyota corolla  \n",
       "357       3                       datsun 200sx  \n",
       "358       3                          mazda 626  \n",
       "359       2          peugeot 505s turbo diesel  \n",
       "360       2                       volvo diesel  \n",
       "361       3                    toyota cressida  \n",
       "362       3                  datsun 810 maxima  \n",
       "363       1                      buick century  \n",
       "364       1              oldsmobile cutlass ls  \n",
       "365       1                    ford granada gl  \n",
       "366       1             chrysler lebaron salon  \n",
       "367       1                 chevrolet cavalier  \n",
       "368       1           chevrolet cavalier wagon  \n",
       "369       1          chevrolet cavalier 2-door  \n",
       "370       1         pontiac j2000 se hatchback  \n",
       "371       1                     dodge aries se  \n",
       "372       1                    pontiac phoenix  \n",
       "373       1               ford fairmont futura  \n",
       "374       2                volkswagen rabbit l  \n",
       "375       3                 mazda glc custom l  \n",
       "376       3                   mazda glc custom  \n",
       "377       1             plymouth horizon miser  \n",
       "378       1                     mercury lynx l  \n",
       "379       3                   nissan stanza xe  \n",
       "380       3                       honda accord  \n",
       "381       3                     toyota corolla  \n",
       "382       3                        honda civic  \n",
       "383       3                 honda civic (auto)  \n",
       "384       3                      datsun 310 gx  \n",
       "385       1              buick century limited  \n",
       "386       1  oldsmobile cutlass ciera (diesel)  \n",
       "387       1         chrysler lebaron medallion  \n",
       "388       1                     ford granada l  \n",
       "389       3                   toyota celica gt  \n",
       "390       1                  dodge charger 2.2  \n",
       "391       1                   chevrolet camaro  \n",
       "392       1                    ford mustang gl  \n",
       "393       2                          vw pickup  \n",
       "394       1                      dodge rampage  \n",
       "395       1                        ford ranger  \n",
       "396       1                         chevy s-10  "
      ]
     },
     "execution_count": 268,
     "metadata": {},
     "output_type": "execute_result"
    }
   ],
   "source": [
    "idx_80 = auto['year']>80\n",
    "auto[idx_80]"
   ]
  },
  {
   "cell_type": "code",
   "execution_count": 271,
   "id": "f64161a0",
   "metadata": {},
   "outputs": [
    {
     "data": {
      "text/html": [
       "<div>\n",
       "<style scoped>\n",
       "    .dataframe tbody tr th:only-of-type {\n",
       "        vertical-align: middle;\n",
       "    }\n",
       "\n",
       "    .dataframe tbody tr th {\n",
       "        vertical-align: top;\n",
       "    }\n",
       "\n",
       "    .dataframe thead th {\n",
       "        text-align: right;\n",
       "    }\n",
       "</style>\n",
       "<table border=\"1\" class=\"dataframe\">\n",
       "  <thead>\n",
       "    <tr style=\"text-align: right;\">\n",
       "      <th></th>\n",
       "      <th>mpg</th>\n",
       "      <th>horsepower</th>\n",
       "    </tr>\n",
       "  </thead>\n",
       "  <tbody>\n",
       "    <tr>\n",
       "      <th>0</th>\n",
       "      <td>18.0</td>\n",
       "      <td>130.0</td>\n",
       "    </tr>\n",
       "    <tr>\n",
       "      <th>1</th>\n",
       "      <td>15.0</td>\n",
       "      <td>165.0</td>\n",
       "    </tr>\n",
       "    <tr>\n",
       "      <th>2</th>\n",
       "      <td>18.0</td>\n",
       "      <td>150.0</td>\n",
       "    </tr>\n",
       "    <tr>\n",
       "      <th>3</th>\n",
       "      <td>16.0</td>\n",
       "      <td>150.0</td>\n",
       "    </tr>\n",
       "    <tr>\n",
       "      <th>4</th>\n",
       "      <td>17.0</td>\n",
       "      <td>140.0</td>\n",
       "    </tr>\n",
       "    <tr>\n",
       "      <th>...</th>\n",
       "      <td>...</td>\n",
       "      <td>...</td>\n",
       "    </tr>\n",
       "    <tr>\n",
       "      <th>392</th>\n",
       "      <td>27.0</td>\n",
       "      <td>86.0</td>\n",
       "    </tr>\n",
       "    <tr>\n",
       "      <th>393</th>\n",
       "      <td>44.0</td>\n",
       "      <td>52.0</td>\n",
       "    </tr>\n",
       "    <tr>\n",
       "      <th>394</th>\n",
       "      <td>32.0</td>\n",
       "      <td>84.0</td>\n",
       "    </tr>\n",
       "    <tr>\n",
       "      <th>395</th>\n",
       "      <td>28.0</td>\n",
       "      <td>79.0</td>\n",
       "    </tr>\n",
       "    <tr>\n",
       "      <th>396</th>\n",
       "      <td>31.0</td>\n",
       "      <td>82.0</td>\n",
       "    </tr>\n",
       "  </tbody>\n",
       "</table>\n",
       "<p>392 rows × 2 columns</p>\n",
       "</div>"
      ],
      "text/plain": [
       "      mpg  horsepower\n",
       "0    18.0       130.0\n",
       "1    15.0       165.0\n",
       "2    18.0       150.0\n",
       "3    16.0       150.0\n",
       "4    17.0       140.0\n",
       "..    ...         ...\n",
       "392  27.0        86.0\n",
       "393  44.0        52.0\n",
       "394  32.0        84.0\n",
       "395  28.0        79.0\n",
       "396  31.0        82.0\n",
       "\n",
       "[392 rows x 2 columns]"
      ]
     },
     "execution_count": 271,
     "metadata": {},
     "output_type": "execute_result"
    }
   ],
   "source": [
    "auto[['mpg', 'horsepower']]"
   ]
  },
  {
   "cell_type": "code",
   "execution_count": 272,
   "id": "52499edd",
   "metadata": {},
   "outputs": [
    {
     "data": {
      "text/plain": [
       "Int64Index([  0,   1,   2,   3,   4,   5,   6,   7,   8,   9,\n",
       "            ...\n",
       "            387, 388, 389, 390, 391, 392, 393, 394, 395, 396],\n",
       "           dtype='int64', length=392)"
      ]
     },
     "execution_count": 272,
     "metadata": {},
     "output_type": "execute_result"
    }
   ],
   "source": [
    "auto.index"
   ]
  },
  {
   "cell_type": "code",
   "execution_count": 273,
   "id": "a3f19b4f",
   "metadata": {},
   "outputs": [
    {
     "data": {
      "text/plain": [
       "Index(['mpg', 'cylinders', 'displacement', 'horsepower', 'weight',\n",
       "       'acceleration', 'year', 'origin', 'name'],\n",
       "      dtype='object')"
      ]
     },
     "execution_count": 273,
     "metadata": {},
     "output_type": "execute_result"
    }
   ],
   "source": [
    "auto.columns"
   ]
  },
  {
   "cell_type": "code",
   "execution_count": 275,
   "id": "d1a92876",
   "metadata": {},
   "outputs": [
    {
     "data": {
      "text/html": [
       "<div>\n",
       "<style scoped>\n",
       "    .dataframe tbody tr th:only-of-type {\n",
       "        vertical-align: middle;\n",
       "    }\n",
       "\n",
       "    .dataframe tbody tr th {\n",
       "        vertical-align: top;\n",
       "    }\n",
       "\n",
       "    .dataframe thead th {\n",
       "        text-align: right;\n",
       "    }\n",
       "</style>\n",
       "<table border=\"1\" class=\"dataframe\">\n",
       "  <thead>\n",
       "    <tr style=\"text-align: right;\">\n",
       "      <th></th>\n",
       "      <th>mpg</th>\n",
       "      <th>cylinders</th>\n",
       "      <th>displacement</th>\n",
       "      <th>horsepower</th>\n",
       "      <th>weight</th>\n",
       "      <th>acceleration</th>\n",
       "      <th>year</th>\n",
       "      <th>origin</th>\n",
       "    </tr>\n",
       "    <tr>\n",
       "      <th>name</th>\n",
       "      <th></th>\n",
       "      <th></th>\n",
       "      <th></th>\n",
       "      <th></th>\n",
       "      <th></th>\n",
       "      <th></th>\n",
       "      <th></th>\n",
       "      <th></th>\n",
       "    </tr>\n",
       "  </thead>\n",
       "  <tbody>\n",
       "    <tr>\n",
       "      <th>chevrolet chevelle malibu</th>\n",
       "      <td>18.0</td>\n",
       "      <td>8</td>\n",
       "      <td>307.0</td>\n",
       "      <td>130.0</td>\n",
       "      <td>3504.0</td>\n",
       "      <td>12.0</td>\n",
       "      <td>70</td>\n",
       "      <td>1</td>\n",
       "    </tr>\n",
       "    <tr>\n",
       "      <th>buick skylark 320</th>\n",
       "      <td>15.0</td>\n",
       "      <td>8</td>\n",
       "      <td>350.0</td>\n",
       "      <td>165.0</td>\n",
       "      <td>3693.0</td>\n",
       "      <td>11.5</td>\n",
       "      <td>70</td>\n",
       "      <td>1</td>\n",
       "    </tr>\n",
       "    <tr>\n",
       "      <th>plymouth satellite</th>\n",
       "      <td>18.0</td>\n",
       "      <td>8</td>\n",
       "      <td>318.0</td>\n",
       "      <td>150.0</td>\n",
       "      <td>3436.0</td>\n",
       "      <td>11.0</td>\n",
       "      <td>70</td>\n",
       "      <td>1</td>\n",
       "    </tr>\n",
       "    <tr>\n",
       "      <th>amc rebel sst</th>\n",
       "      <td>16.0</td>\n",
       "      <td>8</td>\n",
       "      <td>304.0</td>\n",
       "      <td>150.0</td>\n",
       "      <td>3433.0</td>\n",
       "      <td>12.0</td>\n",
       "      <td>70</td>\n",
       "      <td>1</td>\n",
       "    </tr>\n",
       "    <tr>\n",
       "      <th>ford torino</th>\n",
       "      <td>17.0</td>\n",
       "      <td>8</td>\n",
       "      <td>302.0</td>\n",
       "      <td>140.0</td>\n",
       "      <td>3449.0</td>\n",
       "      <td>10.5</td>\n",
       "      <td>70</td>\n",
       "      <td>1</td>\n",
       "    </tr>\n",
       "  </tbody>\n",
       "</table>\n",
       "</div>"
      ],
      "text/plain": [
       "                            mpg  cylinders  displacement  horsepower  weight  \\\n",
       "name                                                                           \n",
       "chevrolet chevelle malibu  18.0          8         307.0       130.0  3504.0   \n",
       "buick skylark 320          15.0          8         350.0       165.0  3693.0   \n",
       "plymouth satellite         18.0          8         318.0       150.0  3436.0   \n",
       "amc rebel sst              16.0          8         304.0       150.0  3433.0   \n",
       "ford torino                17.0          8         302.0       140.0  3449.0   \n",
       "\n",
       "                           acceleration  year  origin  \n",
       "name                                                   \n",
       "chevrolet chevelle malibu          12.0    70       1  \n",
       "buick skylark 320                  11.5    70       1  \n",
       "plymouth satellite                 11.0    70       1  \n",
       "amc rebel sst                      12.0    70       1  \n",
       "ford torino                        10.5    70       1  "
      ]
     },
     "execution_count": 275,
     "metadata": {},
     "output_type": "execute_result"
    }
   ],
   "source": [
    "auto_re = auto.set_index('name')\n",
    "auto_re.head()"
   ]
  },
  {
   "cell_type": "code",
   "execution_count": 276,
   "id": "bfd10e8f",
   "metadata": {},
   "outputs": [
    {
     "data": {
      "text/plain": [
       "Index(['mpg', 'cylinders', 'displacement', 'horsepower', 'weight',\n",
       "       'acceleration', 'year', 'origin'],\n",
       "      dtype='object')"
      ]
     },
     "execution_count": 276,
     "metadata": {},
     "output_type": "execute_result"
    }
   ],
   "source": [
    "auto_re.columns"
   ]
  },
  {
   "cell_type": "code",
   "execution_count": 284,
   "id": "23f03016",
   "metadata": {},
   "outputs": [
    {
     "data": {
      "text/html": [
       "<div>\n",
       "<style scoped>\n",
       "    .dataframe tbody tr th:only-of-type {\n",
       "        vertical-align: middle;\n",
       "    }\n",
       "\n",
       "    .dataframe tbody tr th {\n",
       "        vertical-align: top;\n",
       "    }\n",
       "\n",
       "    .dataframe thead th {\n",
       "        text-align: right;\n",
       "    }\n",
       "</style>\n",
       "<table border=\"1\" class=\"dataframe\">\n",
       "  <thead>\n",
       "    <tr style=\"text-align: right;\">\n",
       "      <th></th>\n",
       "      <th>mpg</th>\n",
       "      <th>cylinders</th>\n",
       "      <th>displacement</th>\n",
       "      <th>horsepower</th>\n",
       "      <th>weight</th>\n",
       "      <th>acceleration</th>\n",
       "      <th>year</th>\n",
       "      <th>origin</th>\n",
       "    </tr>\n",
       "    <tr>\n",
       "      <th>name</th>\n",
       "      <th></th>\n",
       "      <th></th>\n",
       "      <th></th>\n",
       "      <th></th>\n",
       "      <th></th>\n",
       "      <th></th>\n",
       "      <th></th>\n",
       "      <th></th>\n",
       "    </tr>\n",
       "  </thead>\n",
       "  <tbody>\n",
       "    <tr>\n",
       "      <th>amc rebel sst</th>\n",
       "      <td>16.0</td>\n",
       "      <td>8</td>\n",
       "      <td>304.0</td>\n",
       "      <td>150.0</td>\n",
       "      <td>3433.0</td>\n",
       "      <td>12.0</td>\n",
       "      <td>70</td>\n",
       "      <td>1</td>\n",
       "    </tr>\n",
       "    <tr>\n",
       "      <th>ford torino</th>\n",
       "      <td>17.0</td>\n",
       "      <td>8</td>\n",
       "      <td>302.0</td>\n",
       "      <td>140.0</td>\n",
       "      <td>3449.0</td>\n",
       "      <td>10.5</td>\n",
       "      <td>70</td>\n",
       "      <td>1</td>\n",
       "    </tr>\n",
       "  </tbody>\n",
       "</table>\n",
       "</div>"
      ],
      "text/plain": [
       "                mpg  cylinders  displacement  horsepower  weight  \\\n",
       "name                                                               \n",
       "amc rebel sst  16.0          8         304.0       150.0  3433.0   \n",
       "ford torino    17.0          8         302.0       140.0  3449.0   \n",
       "\n",
       "               acceleration  year  origin  \n",
       "name                                       \n",
       "amc rebel sst          12.0    70       1  \n",
       "ford torino            10.5    70       1  "
      ]
     },
     "execution_count": 284,
     "metadata": {},
     "output_type": "execute_result"
    }
   ],
   "source": [
    "rows = ['amc rebel sst', 'ford torino']\n",
    "auto_re.loc[rows]"
   ]
  },
  {
   "cell_type": "code",
   "execution_count": 294,
   "id": "e1aebc15",
   "metadata": {},
   "outputs": [
    {
     "data": {
      "text/html": [
       "<div>\n",
       "<style scoped>\n",
       "    .dataframe tbody tr th:only-of-type {\n",
       "        vertical-align: middle;\n",
       "    }\n",
       "\n",
       "    .dataframe tbody tr th {\n",
       "        vertical-align: top;\n",
       "    }\n",
       "\n",
       "    .dataframe thead th {\n",
       "        text-align: right;\n",
       "    }\n",
       "</style>\n",
       "<table border=\"1\" class=\"dataframe\">\n",
       "  <thead>\n",
       "    <tr style=\"text-align: right;\">\n",
       "      <th></th>\n",
       "      <th>mpg</th>\n",
       "      <th>cylinders</th>\n",
       "      <th>displacement</th>\n",
       "      <th>horsepower</th>\n",
       "      <th>weight</th>\n",
       "      <th>acceleration</th>\n",
       "      <th>year</th>\n",
       "      <th>origin</th>\n",
       "    </tr>\n",
       "    <tr>\n",
       "      <th>name</th>\n",
       "      <th></th>\n",
       "      <th></th>\n",
       "      <th></th>\n",
       "      <th></th>\n",
       "      <th></th>\n",
       "      <th></th>\n",
       "      <th></th>\n",
       "      <th></th>\n",
       "    </tr>\n",
       "  </thead>\n",
       "  <tbody>\n",
       "    <tr>\n",
       "      <th>amc rebel sst</th>\n",
       "      <td>16.0</td>\n",
       "      <td>8</td>\n",
       "      <td>304.0</td>\n",
       "      <td>150.0</td>\n",
       "      <td>3433.0</td>\n",
       "      <td>12.0</td>\n",
       "      <td>70</td>\n",
       "      <td>1</td>\n",
       "    </tr>\n",
       "    <tr>\n",
       "      <th>ford torino</th>\n",
       "      <td>17.0</td>\n",
       "      <td>8</td>\n",
       "      <td>302.0</td>\n",
       "      <td>140.0</td>\n",
       "      <td>3449.0</td>\n",
       "      <td>10.5</td>\n",
       "      <td>70</td>\n",
       "      <td>1</td>\n",
       "    </tr>\n",
       "  </tbody>\n",
       "</table>\n",
       "</div>"
      ],
      "text/plain": [
       "                mpg  cylinders  displacement  horsepower  weight  \\\n",
       "name                                                               \n",
       "amc rebel sst  16.0          8         304.0       150.0  3433.0   \n",
       "ford torino    17.0          8         302.0       140.0  3449.0   \n",
       "\n",
       "               acceleration  year  origin  \n",
       "name                                       \n",
       "amc rebel sst          12.0    70       1  \n",
       "ford torino            10.5    70       1  "
      ]
     },
     "execution_count": 294,
     "metadata": {},
     "output_type": "execute_result"
    }
   ],
   "source": [
    "auto_re.iloc[[3,4]]"
   ]
  },
  {
   "cell_type": "code",
   "execution_count": 290,
   "id": "1fe52322",
   "metadata": {},
   "outputs": [
    {
     "data": {
      "text/html": [
       "<div>\n",
       "<style scoped>\n",
       "    .dataframe tbody tr th:only-of-type {\n",
       "        vertical-align: middle;\n",
       "    }\n",
       "\n",
       "    .dataframe tbody tr th {\n",
       "        vertical-align: top;\n",
       "    }\n",
       "\n",
       "    .dataframe thead th {\n",
       "        text-align: right;\n",
       "    }\n",
       "</style>\n",
       "<table border=\"1\" class=\"dataframe\">\n",
       "  <thead>\n",
       "    <tr style=\"text-align: right;\">\n",
       "      <th></th>\n",
       "      <th>mpg</th>\n",
       "      <th>displacement</th>\n",
       "      <th>horsepower</th>\n",
       "    </tr>\n",
       "    <tr>\n",
       "      <th>name</th>\n",
       "      <th></th>\n",
       "      <th></th>\n",
       "      <th></th>\n",
       "    </tr>\n",
       "  </thead>\n",
       "  <tbody>\n",
       "    <tr>\n",
       "      <th>chevrolet chevelle malibu</th>\n",
       "      <td>18.0</td>\n",
       "      <td>307.0</td>\n",
       "      <td>130.0</td>\n",
       "    </tr>\n",
       "    <tr>\n",
       "      <th>buick skylark 320</th>\n",
       "      <td>15.0</td>\n",
       "      <td>350.0</td>\n",
       "      <td>165.0</td>\n",
       "    </tr>\n",
       "    <tr>\n",
       "      <th>plymouth satellite</th>\n",
       "      <td>18.0</td>\n",
       "      <td>318.0</td>\n",
       "      <td>150.0</td>\n",
       "    </tr>\n",
       "    <tr>\n",
       "      <th>amc rebel sst</th>\n",
       "      <td>16.0</td>\n",
       "      <td>304.0</td>\n",
       "      <td>150.0</td>\n",
       "    </tr>\n",
       "    <tr>\n",
       "      <th>ford torino</th>\n",
       "      <td>17.0</td>\n",
       "      <td>302.0</td>\n",
       "      <td>140.0</td>\n",
       "    </tr>\n",
       "    <tr>\n",
       "      <th>...</th>\n",
       "      <td>...</td>\n",
       "      <td>...</td>\n",
       "      <td>...</td>\n",
       "    </tr>\n",
       "    <tr>\n",
       "      <th>ford mustang gl</th>\n",
       "      <td>27.0</td>\n",
       "      <td>140.0</td>\n",
       "      <td>86.0</td>\n",
       "    </tr>\n",
       "    <tr>\n",
       "      <th>vw pickup</th>\n",
       "      <td>44.0</td>\n",
       "      <td>97.0</td>\n",
       "      <td>52.0</td>\n",
       "    </tr>\n",
       "    <tr>\n",
       "      <th>dodge rampage</th>\n",
       "      <td>32.0</td>\n",
       "      <td>135.0</td>\n",
       "      <td>84.0</td>\n",
       "    </tr>\n",
       "    <tr>\n",
       "      <th>ford ranger</th>\n",
       "      <td>28.0</td>\n",
       "      <td>120.0</td>\n",
       "      <td>79.0</td>\n",
       "    </tr>\n",
       "    <tr>\n",
       "      <th>chevy s-10</th>\n",
       "      <td>31.0</td>\n",
       "      <td>119.0</td>\n",
       "      <td>82.0</td>\n",
       "    </tr>\n",
       "  </tbody>\n",
       "</table>\n",
       "<p>392 rows × 3 columns</p>\n",
       "</div>"
      ],
      "text/plain": [
       "                            mpg  displacement  horsepower\n",
       "name                                                     \n",
       "chevrolet chevelle malibu  18.0         307.0       130.0\n",
       "buick skylark 320          15.0         350.0       165.0\n",
       "plymouth satellite         18.0         318.0       150.0\n",
       "amc rebel sst              16.0         304.0       150.0\n",
       "ford torino                17.0         302.0       140.0\n",
       "...                         ...           ...         ...\n",
       "ford mustang gl            27.0         140.0        86.0\n",
       "vw pickup                  44.0          97.0        52.0\n",
       "dodge rampage              32.0         135.0        84.0\n",
       "ford ranger                28.0         120.0        79.0\n",
       "chevy s-10                 31.0         119.0        82.0\n",
       "\n",
       "[392 rows x 3 columns]"
      ]
     },
     "execution_count": 290,
     "metadata": {},
     "output_type": "execute_result"
    }
   ],
   "source": [
    "auto_re.iloc[:,[0, 2, 3]]"
   ]
  },
  {
   "cell_type": "code",
   "execution_count": 295,
   "id": "136e9925",
   "metadata": {},
   "outputs": [
    {
     "data": {
      "text/html": [
       "<div>\n",
       "<style scoped>\n",
       "    .dataframe tbody tr th:only-of-type {\n",
       "        vertical-align: middle;\n",
       "    }\n",
       "\n",
       "    .dataframe tbody tr th {\n",
       "        vertical-align: top;\n",
       "    }\n",
       "\n",
       "    .dataframe thead th {\n",
       "        text-align: right;\n",
       "    }\n",
       "</style>\n",
       "<table border=\"1\" class=\"dataframe\">\n",
       "  <thead>\n",
       "    <tr style=\"text-align: right;\">\n",
       "      <th></th>\n",
       "      <th>mpg</th>\n",
       "      <th>displacement</th>\n",
       "      <th>horsepower</th>\n",
       "    </tr>\n",
       "    <tr>\n",
       "      <th>name</th>\n",
       "      <th></th>\n",
       "      <th></th>\n",
       "      <th></th>\n",
       "    </tr>\n",
       "  </thead>\n",
       "  <tbody>\n",
       "    <tr>\n",
       "      <th>amc rebel sst</th>\n",
       "      <td>16.0</td>\n",
       "      <td>304.0</td>\n",
       "      <td>150.0</td>\n",
       "    </tr>\n",
       "    <tr>\n",
       "      <th>ford torino</th>\n",
       "      <td>17.0</td>\n",
       "      <td>302.0</td>\n",
       "      <td>140.0</td>\n",
       "    </tr>\n",
       "  </tbody>\n",
       "</table>\n",
       "</div>"
      ],
      "text/plain": [
       "                mpg  displacement  horsepower\n",
       "name                                         \n",
       "amc rebel sst  16.0         304.0       150.0\n",
       "ford torino    17.0         302.0       140.0"
      ]
     },
     "execution_count": 295,
     "metadata": {},
     "output_type": "execute_result"
    }
   ],
   "source": [
    "auto_re.iloc[[3,4], [0, 2, 3]]"
   ]
  },
  {
   "cell_type": "code",
   "execution_count": 296,
   "id": "d310cfc1",
   "metadata": {},
   "outputs": [
    {
     "data": {
      "text/html": [
       "<div>\n",
       "<style scoped>\n",
       "    .dataframe tbody tr th:only-of-type {\n",
       "        vertical-align: middle;\n",
       "    }\n",
       "\n",
       "    .dataframe tbody tr th {\n",
       "        vertical-align: top;\n",
       "    }\n",
       "\n",
       "    .dataframe thead th {\n",
       "        text-align: right;\n",
       "    }\n",
       "</style>\n",
       "<table border=\"1\" class=\"dataframe\">\n",
       "  <thead>\n",
       "    <tr style=\"text-align: right;\">\n",
       "      <th></th>\n",
       "      <th>mpg</th>\n",
       "      <th>origin</th>\n",
       "    </tr>\n",
       "    <tr>\n",
       "      <th>name</th>\n",
       "      <th></th>\n",
       "      <th></th>\n",
       "    </tr>\n",
       "  </thead>\n",
       "  <tbody>\n",
       "    <tr>\n",
       "      <th>ford galaxie 500</th>\n",
       "      <td>15.0</td>\n",
       "      <td>1</td>\n",
       "    </tr>\n",
       "    <tr>\n",
       "      <th>ford galaxie 500</th>\n",
       "      <td>14.0</td>\n",
       "      <td>1</td>\n",
       "    </tr>\n",
       "    <tr>\n",
       "      <th>ford galaxie 500</th>\n",
       "      <td>14.0</td>\n",
       "      <td>1</td>\n",
       "    </tr>\n",
       "  </tbody>\n",
       "</table>\n",
       "</div>"
      ],
      "text/plain": [
       "                   mpg  origin\n",
       "name                          \n",
       "ford galaxie 500  15.0       1\n",
       "ford galaxie 500  14.0       1\n",
       "ford galaxie 500  14.0       1"
      ]
     },
     "execution_count": 296,
     "metadata": {},
     "output_type": "execute_result"
    }
   ],
   "source": [
    "auto_re.loc['ford galaxie 500', ['mpg', 'origin']]"
   ]
  },
  {
   "cell_type": "markdown",
   "id": "b428a356",
   "metadata": {},
   "source": [
    "###### More on selecting rows and columns"
   ]
  },
  {
   "cell_type": "code",
   "execution_count": 307,
   "id": "915a9afb",
   "metadata": {},
   "outputs": [
    {
     "data": {
      "text/html": [
       "<div>\n",
       "<style scoped>\n",
       "    .dataframe tbody tr th:only-of-type {\n",
       "        vertical-align: middle;\n",
       "    }\n",
       "\n",
       "    .dataframe tbody tr th {\n",
       "        vertical-align: top;\n",
       "    }\n",
       "\n",
       "    .dataframe thead th {\n",
       "        text-align: right;\n",
       "    }\n",
       "</style>\n",
       "<table border=\"1\" class=\"dataframe\">\n",
       "  <thead>\n",
       "    <tr style=\"text-align: right;\">\n",
       "      <th></th>\n",
       "      <th>weight</th>\n",
       "      <th>origin</th>\n",
       "    </tr>\n",
       "    <tr>\n",
       "      <th>name</th>\n",
       "      <th></th>\n",
       "      <th></th>\n",
       "    </tr>\n",
       "  </thead>\n",
       "  <tbody>\n",
       "    <tr>\n",
       "      <th>plymouth reliant</th>\n",
       "      <td>2490.0</td>\n",
       "      <td>1</td>\n",
       "    </tr>\n",
       "    <tr>\n",
       "      <th>buick skylark</th>\n",
       "      <td>2635.0</td>\n",
       "      <td>1</td>\n",
       "    </tr>\n",
       "    <tr>\n",
       "      <th>dodge aries wagon (sw)</th>\n",
       "      <td>2620.0</td>\n",
       "      <td>1</td>\n",
       "    </tr>\n",
       "    <tr>\n",
       "      <th>chevrolet citation</th>\n",
       "      <td>2725.0</td>\n",
       "      <td>1</td>\n",
       "    </tr>\n",
       "    <tr>\n",
       "      <th>plymouth reliant</th>\n",
       "      <td>2385.0</td>\n",
       "      <td>1</td>\n",
       "    </tr>\n",
       "  </tbody>\n",
       "</table>\n",
       "</div>"
      ],
      "text/plain": [
       "                        weight  origin\n",
       "name                                  \n",
       "plymouth reliant        2490.0       1\n",
       "buick skylark           2635.0       1\n",
       "dodge aries wagon (sw)  2620.0       1\n",
       "chevrolet citation      2725.0       1\n",
       "plymouth reliant        2385.0       1"
      ]
     },
     "execution_count": 307,
     "metadata": {},
     "output_type": "execute_result"
    }
   ],
   "source": [
    "idx_80 = auto_re['year']>80\n",
    "auto_re.loc[idx_80, ['weight', 'origin']].head()"
   ]
  },
  {
   "cell_type": "code",
   "execution_count": 305,
   "id": "cc014911",
   "metadata": {},
   "outputs": [
    {
     "data": {
      "text/html": [
       "<div>\n",
       "<style scoped>\n",
       "    .dataframe tbody tr th:only-of-type {\n",
       "        vertical-align: middle;\n",
       "    }\n",
       "\n",
       "    .dataframe tbody tr th {\n",
       "        vertical-align: top;\n",
       "    }\n",
       "\n",
       "    .dataframe thead th {\n",
       "        text-align: right;\n",
       "    }\n",
       "</style>\n",
       "<table border=\"1\" class=\"dataframe\">\n",
       "  <thead>\n",
       "    <tr style=\"text-align: right;\">\n",
       "      <th></th>\n",
       "      <th>weight</th>\n",
       "      <th>origin</th>\n",
       "    </tr>\n",
       "    <tr>\n",
       "      <th>name</th>\n",
       "      <th></th>\n",
       "      <th></th>\n",
       "    </tr>\n",
       "  </thead>\n",
       "  <tbody>\n",
       "    <tr>\n",
       "      <th>plymouth reliant</th>\n",
       "      <td>2490.0</td>\n",
       "      <td>1</td>\n",
       "    </tr>\n",
       "    <tr>\n",
       "      <th>buick skylark</th>\n",
       "      <td>2635.0</td>\n",
       "      <td>1</td>\n",
       "    </tr>\n",
       "    <tr>\n",
       "      <th>dodge aries wagon (sw)</th>\n",
       "      <td>2620.0</td>\n",
       "      <td>1</td>\n",
       "    </tr>\n",
       "    <tr>\n",
       "      <th>chevrolet citation</th>\n",
       "      <td>2725.0</td>\n",
       "      <td>1</td>\n",
       "    </tr>\n",
       "    <tr>\n",
       "      <th>plymouth reliant</th>\n",
       "      <td>2385.0</td>\n",
       "      <td>1</td>\n",
       "    </tr>\n",
       "  </tbody>\n",
       "</table>\n",
       "</div>"
      ],
      "text/plain": [
       "                        weight  origin\n",
       "name                                  \n",
       "plymouth reliant        2490.0       1\n",
       "buick skylark           2635.0       1\n",
       "dodge aries wagon (sw)  2620.0       1\n",
       "chevrolet citation      2725.0       1\n",
       "plymouth reliant        2385.0       1"
      ]
     },
     "execution_count": 305,
     "metadata": {},
     "output_type": "execute_result"
    }
   ],
   "source": [
    "auto_re.loc[lambda df:df['year']>80, ['weight', 'origin']].head()"
   ]
  },
  {
   "cell_type": "code",
   "execution_count": 308,
   "id": "49242e42",
   "metadata": {},
   "outputs": [
    {
     "data": {
      "text/plain": [
       "Index(['mpg', 'cylinders', 'displacement', 'horsepower', 'weight',\n",
       "       'acceleration', 'year', 'origin'],\n",
       "      dtype='object')"
      ]
     },
     "execution_count": 308,
     "metadata": {},
     "output_type": "execute_result"
    }
   ],
   "source": [
    "auto_re.columns"
   ]
  },
  {
   "cell_type": "code",
   "execution_count": 311,
   "id": "d5320254",
   "metadata": {},
   "outputs": [
    {
     "data": {
      "text/html": [
       "<div>\n",
       "<style scoped>\n",
       "    .dataframe tbody tr th:only-of-type {\n",
       "        vertical-align: middle;\n",
       "    }\n",
       "\n",
       "    .dataframe tbody tr th {\n",
       "        vertical-align: top;\n",
       "    }\n",
       "\n",
       "    .dataframe thead th {\n",
       "        text-align: right;\n",
       "    }\n",
       "</style>\n",
       "<table border=\"1\" class=\"dataframe\">\n",
       "  <thead>\n",
       "    <tr style=\"text-align: right;\">\n",
       "      <th></th>\n",
       "      <th>weight</th>\n",
       "      <th>origin</th>\n",
       "    </tr>\n",
       "    <tr>\n",
       "      <th>name</th>\n",
       "      <th></th>\n",
       "      <th></th>\n",
       "    </tr>\n",
       "  </thead>\n",
       "  <tbody>\n",
       "    <tr>\n",
       "      <th>toyota starlet</th>\n",
       "      <td>1755.0</td>\n",
       "      <td>3</td>\n",
       "    </tr>\n",
       "    <tr>\n",
       "      <th>plymouth champ</th>\n",
       "      <td>1875.0</td>\n",
       "      <td>1</td>\n",
       "    </tr>\n",
       "    <tr>\n",
       "      <th>honda civic 1300</th>\n",
       "      <td>1760.0</td>\n",
       "      <td>3</td>\n",
       "    </tr>\n",
       "    <tr>\n",
       "      <th>subaru</th>\n",
       "      <td>2065.0</td>\n",
       "      <td>3</td>\n",
       "    </tr>\n",
       "    <tr>\n",
       "      <th>datsun 210 mpg</th>\n",
       "      <td>1975.0</td>\n",
       "      <td>3</td>\n",
       "    </tr>\n",
       "  </tbody>\n",
       "</table>\n",
       "</div>"
      ],
      "text/plain": [
       "                  weight  origin\n",
       "name                            \n",
       "toyota starlet    1755.0       3\n",
       "plymouth champ    1875.0       1\n",
       "honda civic 1300  1760.0       3\n",
       "subaru            2065.0       3\n",
       "datsun 210 mpg    1975.0       3"
      ]
     },
     "execution_count": 311,
     "metadata": {},
     "output_type": "execute_result"
    }
   ],
   "source": [
    "auto_re.loc[lambda df:(df['year']> 80) & (df['mpg']>30), ['weight', 'origin']].head()"
   ]
  },
  {
   "cell_type": "code",
   "execution_count": 312,
   "id": "364b0f1d",
   "metadata": {},
   "outputs": [
    {
     "data": {
      "text/html": [
       "<div>\n",
       "<style scoped>\n",
       "    .dataframe tbody tr th:only-of-type {\n",
       "        vertical-align: middle;\n",
       "    }\n",
       "\n",
       "    .dataframe tbody tr th {\n",
       "        vertical-align: top;\n",
       "    }\n",
       "\n",
       "    .dataframe thead th {\n",
       "        text-align: right;\n",
       "    }\n",
       "</style>\n",
       "<table border=\"1\" class=\"dataframe\">\n",
       "  <thead>\n",
       "    <tr style=\"text-align: right;\">\n",
       "      <th></th>\n",
       "      <th>mpg</th>\n",
       "      <th>cylinders</th>\n",
       "      <th>displacement</th>\n",
       "      <th>horsepower</th>\n",
       "      <th>weight</th>\n",
       "      <th>acceleration</th>\n",
       "      <th>year</th>\n",
       "      <th>origin</th>\n",
       "      <th>name</th>\n",
       "    </tr>\n",
       "  </thead>\n",
       "  <tbody>\n",
       "    <tr>\n",
       "      <th>0</th>\n",
       "      <td>18.0</td>\n",
       "      <td>8</td>\n",
       "      <td>307.0</td>\n",
       "      <td>130.0</td>\n",
       "      <td>3504.0</td>\n",
       "      <td>12.0</td>\n",
       "      <td>70</td>\n",
       "      <td>1</td>\n",
       "      <td>chevrolet chevelle malibu</td>\n",
       "    </tr>\n",
       "    <tr>\n",
       "      <th>1</th>\n",
       "      <td>15.0</td>\n",
       "      <td>8</td>\n",
       "      <td>350.0</td>\n",
       "      <td>165.0</td>\n",
       "      <td>3693.0</td>\n",
       "      <td>11.5</td>\n",
       "      <td>70</td>\n",
       "      <td>1</td>\n",
       "      <td>buick skylark 320</td>\n",
       "    </tr>\n",
       "    <tr>\n",
       "      <th>2</th>\n",
       "      <td>18.0</td>\n",
       "      <td>8</td>\n",
       "      <td>318.0</td>\n",
       "      <td>150.0</td>\n",
       "      <td>3436.0</td>\n",
       "      <td>11.0</td>\n",
       "      <td>70</td>\n",
       "      <td>1</td>\n",
       "      <td>plymouth satellite</td>\n",
       "    </tr>\n",
       "    <tr>\n",
       "      <th>3</th>\n",
       "      <td>16.0</td>\n",
       "      <td>8</td>\n",
       "      <td>304.0</td>\n",
       "      <td>150.0</td>\n",
       "      <td>3433.0</td>\n",
       "      <td>12.0</td>\n",
       "      <td>70</td>\n",
       "      <td>1</td>\n",
       "      <td>amc rebel sst</td>\n",
       "    </tr>\n",
       "    <tr>\n",
       "      <th>4</th>\n",
       "      <td>17.0</td>\n",
       "      <td>8</td>\n",
       "      <td>302.0</td>\n",
       "      <td>140.0</td>\n",
       "      <td>3449.0</td>\n",
       "      <td>10.5</td>\n",
       "      <td>70</td>\n",
       "      <td>1</td>\n",
       "      <td>ford torino</td>\n",
       "    </tr>\n",
       "    <tr>\n",
       "      <th>...</th>\n",
       "      <td>...</td>\n",
       "      <td>...</td>\n",
       "      <td>...</td>\n",
       "      <td>...</td>\n",
       "      <td>...</td>\n",
       "      <td>...</td>\n",
       "      <td>...</td>\n",
       "      <td>...</td>\n",
       "      <td>...</td>\n",
       "    </tr>\n",
       "    <tr>\n",
       "      <th>392</th>\n",
       "      <td>27.0</td>\n",
       "      <td>4</td>\n",
       "      <td>140.0</td>\n",
       "      <td>86.0</td>\n",
       "      <td>2790.0</td>\n",
       "      <td>15.6</td>\n",
       "      <td>82</td>\n",
       "      <td>1</td>\n",
       "      <td>ford mustang gl</td>\n",
       "    </tr>\n",
       "    <tr>\n",
       "      <th>393</th>\n",
       "      <td>44.0</td>\n",
       "      <td>4</td>\n",
       "      <td>97.0</td>\n",
       "      <td>52.0</td>\n",
       "      <td>2130.0</td>\n",
       "      <td>24.6</td>\n",
       "      <td>82</td>\n",
       "      <td>2</td>\n",
       "      <td>vw pickup</td>\n",
       "    </tr>\n",
       "    <tr>\n",
       "      <th>394</th>\n",
       "      <td>32.0</td>\n",
       "      <td>4</td>\n",
       "      <td>135.0</td>\n",
       "      <td>84.0</td>\n",
       "      <td>2295.0</td>\n",
       "      <td>11.6</td>\n",
       "      <td>82</td>\n",
       "      <td>1</td>\n",
       "      <td>dodge rampage</td>\n",
       "    </tr>\n",
       "    <tr>\n",
       "      <th>395</th>\n",
       "      <td>28.0</td>\n",
       "      <td>4</td>\n",
       "      <td>120.0</td>\n",
       "      <td>79.0</td>\n",
       "      <td>2625.0</td>\n",
       "      <td>18.6</td>\n",
       "      <td>82</td>\n",
       "      <td>1</td>\n",
       "      <td>ford ranger</td>\n",
       "    </tr>\n",
       "    <tr>\n",
       "      <th>396</th>\n",
       "      <td>31.0</td>\n",
       "      <td>4</td>\n",
       "      <td>119.0</td>\n",
       "      <td>82.0</td>\n",
       "      <td>2720.0</td>\n",
       "      <td>19.4</td>\n",
       "      <td>82</td>\n",
       "      <td>1</td>\n",
       "      <td>chevy s-10</td>\n",
       "    </tr>\n",
       "  </tbody>\n",
       "</table>\n",
       "<p>392 rows × 9 columns</p>\n",
       "</div>"
      ],
      "text/plain": [
       "      mpg  cylinders  displacement  horsepower  weight  acceleration  year  \\\n",
       "0    18.0          8         307.0       130.0  3504.0          12.0    70   \n",
       "1    15.0          8         350.0       165.0  3693.0          11.5    70   \n",
       "2    18.0          8         318.0       150.0  3436.0          11.0    70   \n",
       "3    16.0          8         304.0       150.0  3433.0          12.0    70   \n",
       "4    17.0          8         302.0       140.0  3449.0          10.5    70   \n",
       "..    ...        ...           ...         ...     ...           ...   ...   \n",
       "392  27.0          4         140.0        86.0  2790.0          15.6    82   \n",
       "393  44.0          4          97.0        52.0  2130.0          24.6    82   \n",
       "394  32.0          4         135.0        84.0  2295.0          11.6    82   \n",
       "395  28.0          4         120.0        79.0  2625.0          18.6    82   \n",
       "396  31.0          4         119.0        82.0  2720.0          19.4    82   \n",
       "\n",
       "     origin                       name  \n",
       "0         1  chevrolet chevelle malibu  \n",
       "1         1          buick skylark 320  \n",
       "2         1         plymouth satellite  \n",
       "3         1              amc rebel sst  \n",
       "4         1                ford torino  \n",
       "..      ...                        ...  \n",
       "392       1            ford mustang gl  \n",
       "393       2                  vw pickup  \n",
       "394       1              dodge rampage  \n",
       "395       1                ford ranger  \n",
       "396       1                 chevy s-10  \n",
       "\n",
       "[392 rows x 9 columns]"
      ]
     },
     "execution_count": 312,
     "metadata": {},
     "output_type": "execute_result"
    }
   ],
   "source": [
    "auto"
   ]
  },
  {
   "cell_type": "code",
   "execution_count": 319,
   "id": "3ae6da13",
   "metadata": {},
   "outputs": [
    {
     "data": {
      "text/html": [
       "<div>\n",
       "<style scoped>\n",
       "    .dataframe tbody tr th:only-of-type {\n",
       "        vertical-align: middle;\n",
       "    }\n",
       "\n",
       "    .dataframe tbody tr th {\n",
       "        vertical-align: top;\n",
       "    }\n",
       "\n",
       "    .dataframe thead th {\n",
       "        text-align: right;\n",
       "    }\n",
       "</style>\n",
       "<table border=\"1\" class=\"dataframe\">\n",
       "  <thead>\n",
       "    <tr style=\"text-align: right;\">\n",
       "      <th></th>\n",
       "      <th>weight</th>\n",
       "      <th>origin</th>\n",
       "    </tr>\n",
       "    <tr>\n",
       "      <th>name</th>\n",
       "      <th></th>\n",
       "      <th></th>\n",
       "    </tr>\n",
       "  </thead>\n",
       "  <tbody>\n",
       "    <tr>\n",
       "      <th>ford maverick</th>\n",
       "      <td>2587.0</td>\n",
       "      <td>1</td>\n",
       "    </tr>\n",
       "    <tr>\n",
       "      <th>datsun pl510</th>\n",
       "      <td>2130.0</td>\n",
       "      <td>3</td>\n",
       "    </tr>\n",
       "    <tr>\n",
       "      <th>datsun pl510</th>\n",
       "      <td>2130.0</td>\n",
       "      <td>3</td>\n",
       "    </tr>\n",
       "    <tr>\n",
       "      <th>ford torino 500</th>\n",
       "      <td>3302.0</td>\n",
       "      <td>1</td>\n",
       "    </tr>\n",
       "    <tr>\n",
       "      <th>ford mustang</th>\n",
       "      <td>3139.0</td>\n",
       "      <td>1</td>\n",
       "    </tr>\n",
       "  </tbody>\n",
       "</table>\n",
       "</div>"
      ],
      "text/plain": [
       "                 weight  origin\n",
       "name                           \n",
       "ford maverick    2587.0       1\n",
       "datsun pl510     2130.0       3\n",
       "datsun pl510     2130.0       3\n",
       "ford torino 500  3302.0       1\n",
       "ford mustang     3139.0       1"
      ]
     },
     "execution_count": 319,
     "metadata": {},
     "output_type": "execute_result"
    }
   ],
   "source": [
    "auto_re.loc[lambda df:(df['displacement']<300) & (df.index.str.contains('ford')\n",
    "            | df.index.str.contains('datsun')), ['weight', 'origin']].head()"
   ]
  },
  {
   "cell_type": "code",
   "execution_count": 313,
   "id": "345ffb60",
   "metadata": {},
   "outputs": [
    {
     "data": {
      "text/plain": [
       "Index(['mpg', 'cylinders', 'displacement', 'horsepower', 'weight',\n",
       "       'acceleration', 'year', 'origin'],\n",
       "      dtype='object')"
      ]
     },
     "execution_count": 313,
     "metadata": {},
     "output_type": "execute_result"
    }
   ],
   "source": [
    "auto_re.columns"
   ]
  },
  {
   "cell_type": "markdown",
   "id": "223ab5b7",
   "metadata": {},
   "source": [
    "#### For loops"
   ]
  },
  {
   "cell_type": "code",
   "execution_count": 323,
   "id": "8051242d",
   "metadata": {},
   "outputs": [
    {
     "name": "stdout",
     "output_type": "stream",
     "text": [
      "Total is 144\n"
     ]
    }
   ],
   "source": [
    "total = 0\n",
    "for value in [2, 3, 19]:\n",
    "    for weight in [3,2,1]:\n",
    "        total += value*weight\n",
    "print(\"Total is {}\".format(total))"
   ]
  },
  {
   "cell_type": "markdown",
   "id": "55fa6dc4",
   "metadata": {},
   "source": [
    "#### String Formating"
   ]
  },
  {
   "cell_type": "code",
   "execution_count": 353,
   "id": "a3b9f4c2",
   "metadata": {},
   "outputs": [
    {
     "data": {
      "text/html": [
       "<div>\n",
       "<style scoped>\n",
       "    .dataframe tbody tr th:only-of-type {\n",
       "        vertical-align: middle;\n",
       "    }\n",
       "\n",
       "    .dataframe tbody tr th {\n",
       "        vertical-align: top;\n",
       "    }\n",
       "\n",
       "    .dataframe thead th {\n",
       "        text-align: right;\n",
       "    }\n",
       "</style>\n",
       "<table border=\"1\" class=\"dataframe\">\n",
       "  <thead>\n",
       "    <tr style=\"text-align: right;\">\n",
       "      <th></th>\n",
       "      <th>food</th>\n",
       "      <th>bar</th>\n",
       "      <th>pickle</th>\n",
       "      <th>snack</th>\n",
       "      <th>popcorn</th>\n",
       "    </tr>\n",
       "  </thead>\n",
       "  <tbody>\n",
       "    <tr>\n",
       "      <th>0</th>\n",
       "      <td>0.345584</td>\n",
       "      <td>0.821618</td>\n",
       "      <td>0.330437</td>\n",
       "      <td>-1.303157</td>\n",
       "      <td>NaN</td>\n",
       "    </tr>\n",
       "    <tr>\n",
       "      <th>1</th>\n",
       "      <td>NaN</td>\n",
       "      <td>-0.536953</td>\n",
       "      <td>0.581118</td>\n",
       "      <td>0.364572</td>\n",
       "      <td>0.294132</td>\n",
       "    </tr>\n",
       "    <tr>\n",
       "      <th>2</th>\n",
       "      <td>NaN</td>\n",
       "      <td>0.546713</td>\n",
       "      <td>NaN</td>\n",
       "      <td>-0.162910</td>\n",
       "      <td>-0.482119</td>\n",
       "    </tr>\n",
       "  </tbody>\n",
       "</table>\n",
       "</div>"
      ],
      "text/plain": [
       "       food       bar    pickle     snack   popcorn\n",
       "0  0.345584  0.821618  0.330437 -1.303157       NaN\n",
       "1       NaN -0.536953  0.581118  0.364572  0.294132\n",
       "2       NaN  0.546713       NaN -0.162910 -0.482119"
      ]
     },
     "execution_count": 353,
     "metadata": {},
     "output_type": "execute_result"
    }
   ],
   "source": [
    "rng = np.random.default_rng(1)\n",
    "a = rng.standard_normal((127, 5))\n",
    "m = rng.choice([0, np.nan], p = [0.8, 0.2], size=a.shape)\n",
    "a += m\n",
    "d = pd.DataFrame(a, columns=['food', 'bar', 'pickle', 'snack', 'popcorn'])\n",
    "d[:3]"
   ]
  },
  {
   "cell_type": "code",
   "execution_count": 342,
   "id": "cef28687",
   "metadata": {},
   "outputs": [],
   "source": [
    "#?rng.choice"
   ]
  },
  {
   "cell_type": "code",
   "execution_count": 374,
   "id": "2cf00837",
   "metadata": {},
   "outputs": [
    {
     "name": "stdout",
     "output_type": "stream",
     "text": [
      "Column \"food\" has 16.54% missing values.\n",
      "Column \"bar\" has 25.98% missing values.\n",
      "Column \"pickle\" has 29.13% missing values.\n",
      "Column \"snack\" has 21.26% missing values.\n",
      "Column \"popcorn\" has 22.83% missing values.\n"
     ]
    }
   ],
   "source": [
    "for col in d.columns:\n",
    "    template = 'Column \"{0}\" has {1:.2%} missing values.'\n",
    "    print(template.format(col, np.isnan(d[col]).mean()))"
   ]
  },
  {
   "cell_type": "markdown",
   "id": "e3e67eeb",
   "metadata": {},
   "source": [
    "#### Aditional Graphical and numerical Summaries"
   ]
  },
  {
   "cell_type": "code",
   "execution_count": 377,
   "id": "90197cd5",
   "metadata": {},
   "outputs": [
    {
     "data": {
      "image/png": "[encoded data removed]",
      "text/plain": [
       "<Figure size 700x500 with 1 Axes>"
      ]
     },
     "metadata": {},
     "output_type": "display_data"
    }
   ],
   "source": [
    "fig, ax = plt.subplots(figsize=(7,5))\n",
    "ax.plot(auto['horsepower'], auto['mpg'], 'o')\n",
    "plt.show()"
   ]
  },
  {
   "cell_type": "code",
   "execution_count": null,
   "id": "4cac29ab",
   "metadata": {},
   "outputs": [],
   "source": []
  },
  {
   "cell_type": "code",
   "execution_count": null,
   "id": "37f538ce",
   "metadata": {},
   "outputs": [],
   "source": []
  },
  {
   "cell_type": "code",
   "execution_count": null,
   "id": "b3bed309",
   "metadata": {},
   "outputs": [],
   "source": []
  },
  {
   "cell_type": "code",
   "execution_count": null,
   "id": "015f2c6f",
   "metadata": {},
   "outputs": [],
   "source": []
  },
  {
   "cell_type": "code",
   "execution_count": null,
   "id": "c0113aa7",
   "metadata": {},
   "outputs": [],
   "source": []
  },
  {
   "cell_type": "code",
   "execution_count": null,
   "id": "be3b596b",
   "metadata": {},
   "outputs": [],
   "source": []
  },
  {
   "cell_type": "code",
   "execution_count": null,
   "id": "def981c7",
   "metadata": {},
   "outputs": [],
   "source": []
  },
  {
   "cell_type": "code",
   "execution_count": null,
   "id": "925a3ff6",
   "metadata": {},
   "outputs": [],
   "source": []
  },
  {
   "cell_type": "code",
   "execution_count": null,
   "id": "a28f1794",
   "metadata": {},
   "outputs": [],
   "source": []
  },
  {
   "cell_type": "code",
   "execution_count": null,
   "id": "a79a040a",
   "metadata": {},
   "outputs": [],
   "source": []
  },
  {
   "cell_type": "code",
   "execution_count": null,
   "id": "950f14ad",
   "metadata": {},
   "outputs": [],
   "source": []
  },
  {
   "cell_type": "code",
   "execution_count": null,
   "id": "805dcd5f",
   "metadata": {},
   "outputs": [],
   "source": []
  },
  {
   "cell_type": "code",
   "execution_count": null,
   "id": "0c444c6b",
   "metadata": {},
   "outputs": [],
   "source": []
  },
  {
   "cell_type": "code",
   "execution_count": null,
   "id": "366f374a",
   "metadata": {},
   "outputs": [],
   "source": []
  },
  {
   "cell_type": "code",
   "execution_count": null,
   "id": "8c4506f3",
   "metadata": {},
   "outputs": [],
   "source": []
  },
  {
   "cell_type": "code",
   "execution_count": null,
   "id": "d125115a",
   "metadata": {},
   "outputs": [],
   "source": []
  },
  {
   "cell_type": "code",
   "execution_count": null,
   "id": "827b48c7",
   "metadata": {},
   "outputs": [],
   "source": []
  },
  {
   "cell_type": "code",
   "execution_count": null,
   "id": "d681eb1c",
   "metadata": {},
   "outputs": [],
   "source": []
  },
  {
   "cell_type": "code",
   "execution_count": null,
   "id": "aa8a84b7",
   "metadata": {},
   "outputs": [],
   "source": []
  }
 ],
 "metadata": {
  "kernelspec": {
   "display_name": "Python 3 (ipykernel)",
   "language": "python",
   "name": "python3"
  },
  "language_info": {
   "codemirror_mode": {
    "name": "ipython",
    "version": 3
   },
   "file_extension": ".py",
   "mimetype": "text/x-python",
   "name": "python",
   "nbconvert_exporter": "python",
   "pygments_lexer": "ipython3",
   "version": "3.9.18"
  }
 },
 "nbformat": 4,
 "nbformat_minor": 5
}
